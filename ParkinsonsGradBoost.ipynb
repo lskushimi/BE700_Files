{
 "cells": [
  {
   "cell_type": "code",
   "execution_count": 1,
   "id": "eab489bc",
   "metadata": {},
   "outputs": [],
   "source": [
    "import numpy as np\n",
    "import xgboost\n",
    "from sklearn.model_selection import train_test_split\n",
    "import pandas as pd\n",
    "from sklearn.metrics import accuracy_score\n",
    "from sklearn.model_selection import GridSearchCV\n",
    "from sklearn.model_selection import RandomizedSearchCV\n",
    "from sklearn.model_selection import LeaveOneGroupOut\n",
    "from sklearn.model_selection import cross_val_predict\n",
    "from sklearn.model_selection import cross_val_score\n",
    "from sklearn.model_selection import GroupShuffleSplit\n",
    "import pickle\n",
    "from skopt import BayesSearchCV\n",
    "\n",
    "# Add in another model from a different framework and test via nested cross validation"
   ]
  },
  {
   "cell_type": "code",
   "execution_count": 2,
   "id": "9e0d4337",
   "metadata": {},
   "outputs": [
    {
     "name": "stdout",
     "output_type": "stream",
     "text": [
      "(756, 755)\n",
      "Fold 0:\n",
      "  Train: index=[  0   1   2   3   4   5   6   7   8   9  10  11  12  13  14  15  16  17\n",
      "  21  22  23  24  25  26  33  34  35  36  37  38  39  40  41  42  43  44\n",
      "  51  52  53  60  61  62  63  64  65  66  67  68  69  70  71  78  79  80\n",
      "  81  82  83  84  85  86  87  88  89  93  94  95  96  97  98 102 103 104\n",
      " 105 106 107 108 109 110 111 112 113 117 118 119 120 121 122 123 124 125\n",
      " 126 127 128 129 130 131 132 133 134 138 139 140 141 142 143 144 145 146\n",
      " 147 148 149 150 151 152 153 154 155 156 157 158 159 160 161 162 163 164\n",
      " 165 166 167 168 169 170 171 172 173 174 175 176 177 178 179 183 184 185\n",
      " 186 187 188 189 190 191 192 193 194 195 196 197 207 208 209 210 211 212\n",
      " 213 214 215 216 217 218 219 220 221 222 223 224 225 226 227 228 229 230\n",
      " 231 232 233 234 235 236 237 238 239 240 241 242 243 244 245 249 250 251\n",
      " 252 253 254 255 256 257 261 262 263 264 265 266 267 268 269 270 271 272\n",
      " 273 274 275 276 277 278 279 280 281 282 283 284 285 286 287 291 292 293\n",
      " 294 295 296 297 298 299 300 301 302 306 307 308 309 310 311 312 313 314\n",
      " 315 316 317 318 319 320 321 322 323 324 325 326 330 331 332 336 337 338\n",
      " 339 340 341 342 343 344 348 349 350 354 355 356 357 358 359 360 361 362\n",
      " 363 364 365 366 367 368 369 370 371 378 379 380 381 382 383 384 385 386\n",
      " 387 388 389 390 391 392 393 394 395 399 400 401 402 403 404 405 406 407\n",
      " 408 409 410 411 412 413 414 415 416 417 418 419 423 424 425 432 433 434\n",
      " 435 436 437 438 439 440 441 442 443 447 448 449 450 451 452 453 454 455\n",
      " 456 457 458 459 460 461 462 463 464 465 466 467 471 472 473 474 475 476\n",
      " 480 481 482 483 484 485 489 490 491 492 493 494 498 499 500 501 502 503\n",
      " 504 505 506 507 508 509 510 511 512 513 514 515 519 520 521 522 523 524\n",
      " 528 529 530 531 532 533 537 538 539 540 541 542 543 544 545 552 553 554\n",
      " 555 556 557 561 562 563 564 565 566 567 568 569 570 571 572 573 574 575\n",
      " 576 577 578 579 580 581 582 583 584 585 586 587 591 592 593 594 595 596\n",
      " 600 601 602 603 604 605 606 607 608 609 610 611 612 613 614 618 619 620\n",
      " 621 622 623 624 625 626 627 628 629 630 631 632 633 634 635 636 637 638\n",
      " 642 643 644 645 646 647 648 649 650 651 652 653 660 661 662 663 664 665\n",
      " 666 667 668 669 670 671 672 673 674 675 676 677 681 682 683 684 685 686\n",
      " 687 688 689 690 691 692 693 694 695 696 697 698 699 700 701 702 703 704\n",
      " 708 709 710 711 712 713 714 715 716 717 718 719 720 721 722 723 724 725\n",
      " 729 730 731 732 733 734 735 736 737 738 739 740 741 742 743 744 745 746\n",
      " 747 748 749 750 751 752 753 754 755], group=[  0.   0.   0.   1.   1.   1.   2.   2.   2.   3.   3.   3.   4.   4.\n",
      "   4.   5.   5.   5.   7.   7.   7.   8.   8.   8.  11.  11.  11.  12.\n",
      "  12.  12.  13.  13.  13.  14.  14.  14.  17.  17.  17.  20.  20.  20.\n",
      "  21.  21.  21.  22.  22.  22.  23.  23.  23.  26.  26.  26.  27.  27.\n",
      "  27.  28.  28.  28.  29.  29.  29.  31.  31.  31.  32.  32.  32.  34.\n",
      "  34.  34.  35.  35.  35.  36.  36.  36.  37.  37.  37.  39.  39.  39.\n",
      "  40.  40.  40.  41.  41.  41.  42.  42.  42.  43.  43.  43.  44.  44.\n",
      "  44.  46.  46.  46.  47.  47.  47.  48.  48.  48.  49.  49.  49.  50.\n",
      "  50.  50.  51.  51.  51.  52.  52.  52.  53.  53.  53.  54.  54.  54.\n",
      "  55.  55.  55.  56.  56.  56.  57.  57.  57.  58.  58.  58.  59.  59.\n",
      "  59.  61.  61.  61.  62.  62.  62.  63.  63.  63.  64.  64.  64.  65.\n",
      "  65.  65.  69.  69.  69.  70.  70.  70.  71.  71.  71.  72.  72.  72.\n",
      "  73.  73.  73.  74.  74.  74.  75.  75.  75.  76.  76.  76.  77.  77.\n",
      "  77.  78.  78.  78.  79.  79.  79.  80.  80.  80.  81.  81.  81.  83.\n",
      "  83.  83.  84.  84.  84.  85.  85.  85.  87.  87.  87.  88.  88.  88.\n",
      "  89.  89.  89.  90.  90.  90.  91.  91.  91.  92.  92.  92.  93.  93.\n",
      "  93.  94.  94.  94.  95.  95.  95.  97.  97.  97.  98.  98.  98.  99.\n",
      "  99.  99. 100. 100. 100. 102. 102. 102. 103. 103. 103. 104. 104. 104.\n",
      " 105. 105. 105. 106. 106. 106. 107. 107. 107. 108. 108. 108. 110. 110.\n",
      " 110. 112. 112. 112. 113. 113. 113. 114. 114. 114. 116. 116. 116. 118.\n",
      " 118. 118. 119. 119. 119. 120. 120. 120. 121. 121. 121. 122. 122. 122.\n",
      " 123. 123. 123. 126. 126. 126. 127. 127. 127. 128. 128. 128. 129. 129.\n",
      " 129. 130. 130. 130. 131. 131. 131. 133. 133. 133. 134. 134. 134. 135.\n",
      " 135. 135. 136. 136. 136. 137. 137. 137. 138. 138. 138. 139. 139. 139.\n",
      " 141. 141. 141. 144. 144. 144. 145. 145. 145. 146. 146. 146. 147. 147.\n",
      " 147. 149. 149. 149. 150. 150. 150. 151. 151. 151. 152. 152. 152. 153.\n",
      " 153. 153. 154. 154. 154. 155. 155. 155. 157. 157. 157. 158. 158. 158.\n",
      " 160. 160. 160. 161. 161. 161. 163. 163. 163. 164. 164. 164. 166. 166.\n",
      " 166. 167. 167. 167. 168. 168. 168. 169. 169. 169. 170. 170. 170. 171.\n",
      " 171. 171. 173. 173. 173. 174. 174. 174. 176. 176. 176. 177. 177. 177.\n",
      " 179. 179. 179. 180. 180. 180. 181. 181. 181. 184. 184. 184. 185. 185.\n",
      " 185. 187. 187. 187. 188. 188. 188. 189. 189. 189. 190. 190. 190. 191.\n",
      " 191. 191. 192. 192. 192. 193. 193. 193. 194. 194. 194. 195. 195. 195.\n",
      " 197. 197. 197. 198. 198. 198. 200. 200. 200. 201. 201. 201. 202. 202.\n",
      " 202. 203. 203. 203. 204. 204. 204. 206. 206. 206. 207. 207. 207. 208.\n",
      " 208. 208. 209. 209. 209. 210. 210. 210. 211. 211. 211. 212. 212. 212.\n",
      " 214. 214. 214. 215. 215. 215. 216. 216. 216. 217. 217. 217. 220. 220.\n",
      " 220. 221. 221. 221. 222. 222. 222. 223. 223. 223. 224. 224. 224. 225.\n",
      " 225. 225. 227. 227. 227. 228. 228. 228. 229. 229. 229. 230. 230. 230.\n",
      " 231. 231. 231. 232. 232. 232. 233. 233. 233. 234. 234. 234. 236. 236.\n",
      " 236. 237. 237. 237. 238. 238. 238. 239. 239. 239. 240. 240. 240. 241.\n",
      " 241. 241. 243. 243. 243. 244. 244. 244. 245. 245. 245. 246. 246. 246.\n",
      " 247. 247. 247. 248. 248. 248. 249. 249. 249. 250. 250. 250. 251. 251.\n",
      " 251.]\n",
      "  Test:  index=[ 18  19  20  27  28  29  30  31  32  45  46  47  48  49  50  54  55  56\n",
      "  57  58  59  72  73  74  75  76  77  90  91  92  99 100 101 114 115 116\n",
      " 135 136 137 180 181 182 198 199 200 201 202 203 204 205 206 246 247 248\n",
      " 258 259 260 288 289 290 303 304 305 327 328 329 333 334 335 345 346 347\n",
      " 351 352 353 372 373 374 375 376 377 396 397 398 420 421 422 426 427 428\n",
      " 429 430 431 444 445 446 468 469 470 477 478 479 486 487 488 495 496 497\n",
      " 516 517 518 525 526 527 534 535 536 546 547 548 549 550 551 558 559 560\n",
      " 588 589 590 597 598 599 615 616 617 639 640 641 654 655 656 657 658 659\n",
      " 678 679 680 705 706 707 726 727 728], group=[  6.   6.   6.   9.   9.   9.  10.  10.  10.  15.  15.  15.  16.  16.\n",
      "  16.  18.  18.  18.  19.  19.  19.  24.  24.  24.  25.  25.  25.  30.\n",
      "  30.  30.  33.  33.  33.  38.  38.  38.  45.  45.  45.  60.  60.  60.\n",
      "  66.  66.  66.  67.  67.  67.  68.  68.  68.  82.  82.  82.  86.  86.\n",
      "  86.  96.  96.  96. 101. 101. 101. 109. 109. 109. 111. 111. 111. 115.\n",
      " 115. 115. 117. 117. 117. 124. 124. 124. 125. 125. 125. 132. 132. 132.\n",
      " 140. 140. 140. 142. 142. 142. 143. 143. 143. 148. 148. 148. 156. 156.\n",
      " 156. 159. 159. 159. 162. 162. 162. 165. 165. 165. 172. 172. 172. 175.\n",
      " 175. 175. 178. 178. 178. 182. 182. 182. 183. 183. 183. 186. 186. 186.\n",
      " 196. 196. 196. 199. 199. 199. 205. 205. 205. 213. 213. 213. 218. 218.\n",
      " 218. 219. 219. 219. 226. 226. 226. 235. 235. 235. 242. 242. 242.]\n"
     ]
    }
   ],
   "source": [
    "#import data\n",
    "dataset = np.loadtxt('C:\\\\Users\\\\lskus\\\\OneDrive\\\\Documents\\\\Past Code and Misc Files\\\\BE562\\\\Project\\\\pd_speech_features.csv',delimiter = \",\",skiprows = 2)\n",
    "\n",
    "print(dataset.shape)\n",
    "\n",
    "X = dataset[:,1:753]\n",
    "Y = dataset[:,754]\n",
    "groups = dataset[:,0]\n",
    "\n",
    "# group shuffle split to split data in to train and test\n",
    "# model an independent dataset\n",
    "splitter = GroupShuffleSplit(test_size = 0.2, n_splits = 1, random_state = 42)\n",
    "for i, (train_index, test_index) in enumerate(splitter.split(X,Y, groups)):\n",
    "    print(f\"Fold {i}:\")\n",
    "    print(f\"  Train: index={train_index}, group={groups[train_index]}\")\n",
    "    print(f\"  Test:  index={test_index}, group={groups[test_index]}\")\n",
    "    \n",
    "    Xtr = X[train_index]\n",
    "    Ytr = Y[train_index]\n",
    "    Xt = X[test_index]\n",
    "    Yt = Y[test_index]\n",
    "    grouptr = groups[train_index]\n",
    "    groupt = groups[test_index]\n",
    "\n",
    "model = xgboost.XGBClassifier(objective=\"binary:logistic\")"
   ]
  },
  {
   "cell_type": "code",
   "execution_count": 3,
   "id": "eb949b03",
   "metadata": {},
   "outputs": [],
   "source": [
    "cv_outer = LeaveOneGroupOut() #cross validation for outer loop\n",
    "\n",
    "outer_results = list() # list of accuracies\n",
    "fimp = [[None for _ in range(752)] for _ in range(252)] # list of feature importances"
   ]
  },
  {
   "cell_type": "code",
   "execution_count": 4,
   "id": "052425e7",
   "metadata": {},
   "outputs": [],
   "source": [
    "#Bayesian Optimization, create boundary dict with all param ranges we want to test\n",
    "pbounds = {\n",
    "    \"learning_rate\": (0.01, 1.0),\n",
    "    \"n_estimators\": (100, 1000),\n",
    "    \"max_depth\": (3,10),\n",
    "    \"subsample\": (0.1, 1.0),  # Change for big datasets\n",
    "    \"colsample_bytree\": (0.1, 1.0),  # Change for datasets with lots of features\n",
    "    \"gamma\": (0, 5),\n",
    "    \"reg_lambda\": (0, 10),\n",
    "    \"scale_pos_weight\": (1, 5),\n",
    "    \"colsample_bylevel\": (0.2, 0.8),\n",
    "    \"colsample_bynode\": (0.2, 0.8),\n",
    "}"
   ]
  },
  {
   "cell_type": "code",
   "execution_count": 5,
   "id": "f53a6690",
   "metadata": {},
   "outputs": [
    {
     "name": "stdout",
     "output_type": "stream",
     "text": [
      ">acc=1.000, cfg=OrderedDict([('colsample_bylevel', 0.7908642300103739), ('colsample_bynode', 0.43744639157439497), ('colsample_bytree', 1.0), ('gamma', 0), ('learning_rate', 0.01), ('max_depth', 10), ('n_estimators', 984), ('reg_lambda', 9), ('scale_pos_weight', 2), ('subsample', 0.8785488760479083)])\n",
      ">acc=1.000, cfg=OrderedDict([('colsample_bylevel', 0.8), ('colsample_bynode', 0.6561519393559642), ('colsample_bytree', 0.4218179486114484), ('gamma', 0), ('learning_rate', 0.0629734439309889), ('max_depth', 7), ('n_estimators', 1000), ('reg_lambda', 8), ('scale_pos_weight', 5), ('subsample', 1.0)])\n",
      ">acc=1.000, cfg=OrderedDict([('colsample_bylevel', 0.4719908248381379), ('colsample_bynode', 0.33831931506853113), ('colsample_bytree', 1.0), ('gamma', 0), ('learning_rate', 0.01), ('max_depth', 7), ('n_estimators', 1000), ('reg_lambda', 2), ('scale_pos_weight', 3), ('subsample', 1.0)])\n",
      ">acc=1.000, cfg=OrderedDict([('colsample_bylevel', 0.2), ('colsample_bynode', 0.8), ('colsample_bytree', 0.7508116707743124), ('gamma', 0), ('learning_rate', 0.01), ('max_depth', 3), ('n_estimators', 1000), ('reg_lambda', 10), ('scale_pos_weight', 1), ('subsample', 1.0)])\n",
      ">acc=1.000, cfg=OrderedDict([('colsample_bylevel', 0.5189053785875489), ('colsample_bynode', 0.3374067880493722), ('colsample_bytree', 0.5908240241271854), ('gamma', 0), ('learning_rate', 0.01), ('max_depth', 5), ('n_estimators', 842), ('reg_lambda', 7), ('scale_pos_weight', 3), ('subsample', 1.0)])\n",
      ">acc=1.000, cfg=OrderedDict([('colsample_bylevel', 0.4325086303815758), ('colsample_bynode', 0.8), ('colsample_bytree', 0.4218824767238677), ('gamma', 0), ('learning_rate', 0.01), ('max_depth', 6), ('n_estimators', 959), ('reg_lambda', 10), ('scale_pos_weight', 2), ('subsample', 1.0)])\n",
      ">acc=1.000, cfg=OrderedDict([('colsample_bylevel', 0.20000001205125184), ('colsample_bynode', 0.3647332978138865), ('colsample_bytree', 0.7553492460475687), ('gamma', 4), ('learning_rate', 0.01), ('max_depth', 6), ('n_estimators', 187), ('reg_lambda', 0), ('scale_pos_weight', 1), ('subsample', 1.0)])\n",
      ">acc=1.000, cfg=OrderedDict([('colsample_bylevel', 0.2), ('colsample_bynode', 0.2), ('colsample_bytree', 1.0), ('gamma', 0), ('learning_rate', 0.32781311065162644), ('max_depth', 6), ('n_estimators', 100), ('reg_lambda', 1), ('scale_pos_weight', 5), ('subsample', 1.0)])\n",
      ">acc=0.000, cfg=OrderedDict([('colsample_bylevel', 0.2), ('colsample_bynode', 0.2), ('colsample_bytree', 1.0), ('gamma', 0), ('learning_rate', 0.01), ('max_depth', 10), ('n_estimators', 1000), ('reg_lambda', 10), ('scale_pos_weight', 1), ('subsample', 0.7728515260511464)])\n",
      ">acc=1.000, cfg=OrderedDict([('colsample_bylevel', 0.30176157618196564), ('colsample_bynode', 0.8), ('colsample_bytree', 0.5137194093713034), ('gamma', 0), ('learning_rate', 0.06636954799101669), ('max_depth', 4), ('n_estimators', 1000), ('reg_lambda', 7), ('scale_pos_weight', 4), ('subsample', 1.0)])\n",
      ">acc=1.000, cfg=OrderedDict([('colsample_bylevel', 0.46627603949942237), ('colsample_bynode', 0.7036528374294984), ('colsample_bytree', 0.18567368149850577), ('gamma', 0), ('learning_rate', 0.01), ('max_depth', 10), ('n_estimators', 582), ('reg_lambda', 6), ('scale_pos_weight', 1), ('subsample', 0.7438317176987663)])\n",
      ">acc=0.000, cfg=OrderedDict([('colsample_bylevel', 0.8), ('colsample_bynode', 0.6929007136655556), ('colsample_bytree', 1.0), ('gamma', 0), ('learning_rate', 0.20368927237526968), ('max_depth', 9), ('n_estimators', 406), ('reg_lambda', 10), ('scale_pos_weight', 4), ('subsample', 1.0)])\n",
      ">acc=1.000, cfg=OrderedDict([('colsample_bylevel', 0.771110643383802), ('colsample_bynode', 0.6897140194930695), ('colsample_bytree', 0.34079934383617627), ('gamma', 4), ('learning_rate', 0.09265572024123185), ('max_depth', 7), ('n_estimators', 452), ('reg_lambda', 4), ('scale_pos_weight', 2), ('subsample', 0.9763679906069328)])\n",
      ">acc=1.000, cfg=OrderedDict([('colsample_bylevel', 0.5942290279770148), ('colsample_bynode', 0.3111306309373646), ('colsample_bytree', 0.9155210370140469), ('gamma', 0), ('learning_rate', 0.16945216888962103), ('max_depth', 4), ('n_estimators', 382), ('reg_lambda', 4), ('scale_pos_weight', 5), ('subsample', 0.9054766452015244)])\n",
      ">acc=1.000, cfg=OrderedDict([('colsample_bylevel', 0.22233000674417278), ('colsample_bynode', 0.8), ('colsample_bytree', 0.6440201056531937), ('gamma', 2), ('learning_rate', 0.08157141519180232), ('max_depth', 10), ('n_estimators', 259), ('reg_lambda', 10), ('scale_pos_weight', 2), ('subsample', 1.0)])\n",
      ">acc=1.000, cfg=OrderedDict([('colsample_bylevel', 0.5525255672137153), ('colsample_bynode', 0.29602435712358477), ('colsample_bytree', 0.908131577986174), ('gamma', 0), ('learning_rate', 0.01), ('max_depth', 10), ('n_estimators', 1000), ('reg_lambda', 3), ('scale_pos_weight', 2), ('subsample', 0.8033260104917402)])\n",
      ">acc=1.000, cfg=OrderedDict([('colsample_bylevel', 0.8), ('colsample_bynode', 0.6280887377661866), ('colsample_bytree', 1.0), ('gamma', 0), ('learning_rate', 0.1379672208255961), ('max_depth', 10), ('n_estimators', 446), ('reg_lambda', 10), ('scale_pos_weight', 3), ('subsample', 1.0)])\n",
      ">acc=0.000, cfg=OrderedDict([('colsample_bylevel', 0.620129561844502), ('colsample_bynode', 0.3300346096409892), ('colsample_bytree', 0.4697370737954123), ('gamma', 1), ('learning_rate', 0.31671945468372453), ('max_depth', 6), ('n_estimators', 994), ('reg_lambda', 5), ('scale_pos_weight', 1), ('subsample', 0.9873104172701757)])\n",
      ">acc=0.000, cfg=OrderedDict([('colsample_bylevel', 0.7699265202675356), ('colsample_bynode', 0.7907113171410056), ('colsample_bytree', 0.47735370711635583), ('gamma', 4), ('learning_rate', 0.36606092001165635), ('max_depth', 10), ('n_estimators', 708), ('reg_lambda', 1), ('scale_pos_weight', 3), ('subsample', 1.0)])\n",
      ">acc=1.000, cfg=OrderedDict([('colsample_bylevel', 0.8), ('colsample_bynode', 0.2), ('colsample_bytree', 0.515134775652737), ('gamma', 0), ('learning_rate', 0.2571047193274013), ('max_depth', 4), ('n_estimators', 480), ('reg_lambda', 5), ('scale_pos_weight', 2), ('subsample', 0.881926003598494)])\n",
      ">acc=0.667, cfg=OrderedDict([('colsample_bylevel', 0.5647948868024947), ('colsample_bynode', 0.29946939795932553), ('colsample_bytree', 0.2186280329790728), ('gamma', 0), ('learning_rate', 0.01), ('max_depth', 3), ('n_estimators', 980), ('reg_lambda', 0), ('scale_pos_weight', 2), ('subsample', 1.0)])\n",
      ">acc=1.000, cfg=OrderedDict([('colsample_bylevel', 0.41686465748736173), ('colsample_bynode', 0.7980107782049686), ('colsample_bytree', 0.7797593070995433), ('gamma', 0), ('learning_rate', 0.16691631065013596), ('max_depth', 3), ('n_estimators', 1000), ('reg_lambda', 4), ('scale_pos_weight', 3), ('subsample', 1.0)])\n",
      ">acc=1.000, cfg=OrderedDict([('colsample_bylevel', 0.740071353127316), ('colsample_bynode', 0.8), ('colsample_bytree', 1.0), ('gamma', 0), ('learning_rate', 0.344818849293635), ('max_depth', 3), ('n_estimators', 100), ('reg_lambda', 10), ('scale_pos_weight', 3), ('subsample', 1.0)])\n",
      ">acc=0.000, cfg=OrderedDict([('colsample_bylevel', 0.8), ('colsample_bynode', 0.8), ('colsample_bytree', 0.1), ('gamma', 0), ('learning_rate', 0.01), ('max_depth', 10), ('n_estimators', 1000), ('reg_lambda', 0), ('scale_pos_weight', 2), ('subsample', 1.0)])\n",
      ">acc=0.333, cfg=OrderedDict([('colsample_bylevel', 0.720068780344679), ('colsample_bynode', 0.44625376062598376), ('colsample_bytree', 0.6984829533339559), ('gamma', 1), ('learning_rate', 0.4283564570385479), ('max_depth', 8), ('n_estimators', 747), ('reg_lambda', 2), ('scale_pos_weight', 4), ('subsample', 0.855170401562643)])\n",
      ">acc=1.000, cfg=OrderedDict([('colsample_bylevel', 0.5805318991604058), ('colsample_bynode', 0.2), ('colsample_bytree', 1.0), ('gamma', 0), ('learning_rate', 0.28097443585130427), ('max_depth', 10), ('n_estimators', 774), ('reg_lambda', 10), ('scale_pos_weight', 4), ('subsample', 1.0)])\n",
      ">acc=1.000, cfg=OrderedDict([('colsample_bylevel', 0.6926273598605827), ('colsample_bynode', 0.8), ('colsample_bytree', 0.9634964211682766), ('gamma', 0), ('learning_rate', 0.5081116000980611), ('max_depth', 10), ('n_estimators', 100), ('reg_lambda', 9), ('scale_pos_weight', 4), ('subsample', 1.0)])\n",
      ">acc=1.000, cfg=OrderedDict([('colsample_bylevel', 0.3403301068383906), ('colsample_bynode', 0.8), ('colsample_bytree', 0.35033260255738896), ('gamma', 2), ('learning_rate', 0.01), ('max_depth', 7), ('n_estimators', 305), ('reg_lambda', 0), ('scale_pos_weight', 2), ('subsample', 1.0)])\n"
     ]
    },
    {
     "name": "stdout",
     "output_type": "stream",
     "text": [
      ">acc=1.000, cfg=OrderedDict([('colsample_bylevel', 0.8), ('colsample_bynode', 0.5473774697852622), ('colsample_bytree', 0.1497684458652654), ('gamma', 0), ('learning_rate', 0.01), ('max_depth', 10), ('n_estimators', 1000), ('reg_lambda', 5), ('scale_pos_weight', 3), ('subsample', 0.7970399977411542)])\n",
      ">acc=1.000, cfg=OrderedDict([('colsample_bylevel', 0.2), ('colsample_bynode', 0.2), ('colsample_bytree', 1.0), ('gamma', 2), ('learning_rate', 0.15896010116682388), ('max_depth', 7), ('n_estimators', 1000), ('reg_lambda', 9), ('scale_pos_weight', 2), ('subsample', 1.0)])\n",
      ">acc=0.000, cfg=OrderedDict([('colsample_bylevel', 0.20487179651251775), ('colsample_bynode', 0.8), ('colsample_bytree', 0.3273270893609489), ('gamma', 0), ('learning_rate', 0.43374935587316316), ('max_depth', 10), ('n_estimators', 558), ('reg_lambda', 9), ('scale_pos_weight', 3), ('subsample', 1.0)])\n",
      ">acc=1.000, cfg=OrderedDict([('colsample_bylevel', 0.4743952627353716), ('colsample_bynode', 0.6276781441451735), ('colsample_bytree', 0.9948401157362932), ('gamma', 0), ('learning_rate', 0.08256257746440306), ('max_depth', 9), ('n_estimators', 700), ('reg_lambda', 5), ('scale_pos_weight', 3), ('subsample', 0.944092331779178)])\n",
      ">acc=1.000, cfg=OrderedDict([('colsample_bylevel', 0.2), ('colsample_bynode', 0.8), ('colsample_bytree', 0.4262829911803746), ('gamma', 1), ('learning_rate', 0.01), ('max_depth', 6), ('n_estimators', 455), ('reg_lambda', 0), ('scale_pos_weight', 2), ('subsample', 0.6197741106871288)])\n",
      ">acc=1.000, cfg=OrderedDict([('colsample_bylevel', 0.21386648678878617), ('colsample_bynode', 0.6751273580322863), ('colsample_bytree', 1.0), ('gamma', 0), ('learning_rate', 0.12020632985689925), ('max_depth', 3), ('n_estimators', 1000), ('reg_lambda', 0), ('scale_pos_weight', 5), ('subsample', 1.0)])\n",
      ">acc=1.000, cfg=OrderedDict([('colsample_bylevel', 0.3287000004574577), ('colsample_bynode', 0.8), ('colsample_bytree', 0.777807230444168), ('gamma', 0), ('learning_rate', 0.10868506260435147), ('max_depth', 8), ('n_estimators', 939), ('reg_lambda', 9), ('scale_pos_weight', 4), ('subsample', 1.0)])\n",
      ">acc=1.000, cfg=OrderedDict([('colsample_bylevel', 0.3682028121899331), ('colsample_bynode', 0.5376328162739029), ('colsample_bytree', 0.7589924120320334), ('gamma', 0), ('learning_rate', 0.14964129756217884), ('max_depth', 8), ('n_estimators', 1000), ('reg_lambda', 4), ('scale_pos_weight', 4), ('subsample', 1.0)])\n",
      ">acc=1.000, cfg=OrderedDict([('colsample_bylevel', 0.25411412156260416), ('colsample_bynode', 0.8), ('colsample_bytree', 0.7113786910580936), ('gamma', 0), ('learning_rate', 0.01), ('max_depth', 3), ('n_estimators', 1000), ('reg_lambda', 0), ('scale_pos_weight', 2), ('subsample', 1.0)])\n",
      ">acc=1.000, cfg=OrderedDict([('colsample_bylevel', 0.6845696177722027), ('colsample_bynode', 0.34401602514275775), ('colsample_bytree', 0.5923809159300482), ('gamma', 2), ('learning_rate', 0.01), ('max_depth', 3), ('n_estimators', 1000), ('reg_lambda', 0), ('scale_pos_weight', 1), ('subsample', 1.0)])\n",
      ">acc=1.000, cfg=OrderedDict([('colsample_bylevel', 0.719246451154957), ('colsample_bynode', 0.34364034766279317), ('colsample_bytree', 0.39627469424066897), ('gamma', 0), ('learning_rate', 0.03680651708957874), ('max_depth', 8), ('n_estimators', 1000), ('reg_lambda', 10), ('scale_pos_weight', 5), ('subsample', 0.7635319892270637)])\n",
      ">acc=1.000, cfg=OrderedDict([('colsample_bylevel', 0.46083361657936023), ('colsample_bynode', 0.7466576414226036), ('colsample_bytree', 0.43036951455176653), ('gamma', 0), ('learning_rate', 0.01), ('max_depth', 10), ('n_estimators', 867), ('reg_lambda', 2), ('scale_pos_weight', 3), ('subsample', 0.9910901639078948)])\n",
      ">acc=1.000, cfg=OrderedDict([('colsample_bylevel', 0.2), ('colsample_bynode', 0.8), ('colsample_bytree', 1.0), ('gamma', 0), ('learning_rate', 0.01), ('max_depth', 8), ('n_estimators', 1000), ('reg_lambda', 0), ('scale_pos_weight', 2), ('subsample', 1.0)])\n",
      ">acc=1.000, cfg=OrderedDict([('colsample_bylevel', 0.4379585958069452), ('colsample_bynode', 0.6462458184031468), ('colsample_bytree', 1.0), ('gamma', 0), ('learning_rate', 0.12295226787397817), ('max_depth', 3), ('n_estimators', 1000), ('reg_lambda', 8), ('scale_pos_weight', 4), ('subsample', 1.0)])\n",
      ">acc=1.000, cfg=OrderedDict([('colsample_bylevel', 0.5365671719035534), ('colsample_bynode', 0.7631033036746502), ('colsample_bytree', 0.18801738592449468), ('gamma', 0), ('learning_rate', 0.03811870390578592), ('max_depth', 7), ('n_estimators', 557), ('reg_lambda', 6), ('scale_pos_weight', 3), ('subsample', 0.9863474107197734)])\n",
      ">acc=1.000, cfg=OrderedDict([('colsample_bylevel', 0.8), ('colsample_bynode', 0.408809840011618), ('colsample_bytree', 0.1), ('gamma', 0), ('learning_rate', 0.01), ('max_depth', 3), ('n_estimators', 678), ('reg_lambda', 0), ('scale_pos_weight', 1), ('subsample', 0.7453251427769639)])\n",
      ">acc=1.000, cfg=OrderedDict([('colsample_bylevel', 0.33453319041776186), ('colsample_bynode', 0.5981276392257603), ('colsample_bytree', 0.9057499103038072), ('gamma', 2), ('learning_rate', 0.01), ('max_depth', 6), ('n_estimators', 946), ('reg_lambda', 10), ('scale_pos_weight', 2), ('subsample', 0.9412838580225109)])\n",
      ">acc=1.000, cfg=OrderedDict([('colsample_bylevel', 0.6234085633342876), ('colsample_bynode', 0.2), ('colsample_bytree', 0.3136484332403291), ('gamma', 0), ('learning_rate', 0.01), ('max_depth', 10), ('n_estimators', 453), ('reg_lambda', 3), ('scale_pos_weight', 1), ('subsample', 1.0)])\n",
      ">acc=1.000, cfg=OrderedDict([('colsample_bylevel', 0.2), ('colsample_bynode', 0.45652819476010015), ('colsample_bytree', 1.0), ('gamma', 0), ('learning_rate', 0.01), ('max_depth', 10), ('n_estimators', 1000), ('reg_lambda', 9), ('scale_pos_weight', 3), ('subsample', 1.0)])\n",
      ">acc=1.000, cfg=OrderedDict([('colsample_bylevel', 0.21971166867555114), ('colsample_bynode', 0.42007307294095), ('colsample_bytree', 0.5244621408898171), ('gamma', 4), ('learning_rate', 0.611374464004433), ('max_depth', 8), ('n_estimators', 171), ('reg_lambda', 3), ('scale_pos_weight', 4), ('subsample', 0.5856645455890246)])\n",
      ">acc=1.000, cfg=OrderedDict([('colsample_bylevel', 0.2), ('colsample_bynode', 0.7263758040431874), ('colsample_bytree', 0.6458570076473339), ('gamma', 1), ('learning_rate', 0.28349998522559283), ('max_depth', 3), ('n_estimators', 1000), ('reg_lambda', 1), ('scale_pos_weight', 2), ('subsample', 1.0)])\n",
      ">acc=1.000, cfg=OrderedDict([('colsample_bylevel', 0.7697364520330607), ('colsample_bynode', 0.3634155973819027), ('colsample_bytree', 0.9042588934706696), ('gamma', 0), ('learning_rate', 0.01), ('max_depth', 5), ('n_estimators', 780), ('reg_lambda', 7), ('scale_pos_weight', 2), ('subsample', 1.0)])\n",
      ">acc=1.000, cfg=OrderedDict([('colsample_bylevel', 0.57299352832785), ('colsample_bynode', 0.2), ('colsample_bytree', 1.0), ('gamma', 0), ('learning_rate', 0.01), ('max_depth', 7), ('n_estimators', 1000), ('reg_lambda', 10), ('scale_pos_weight', 3), ('subsample', 1.0)])\n",
      ">acc=0.000, cfg=OrderedDict([('colsample_bylevel', 0.8), ('colsample_bynode', 0.8), ('colsample_bytree', 0.1), ('gamma', 1), ('learning_rate', 0.01), ('max_depth', 10), ('n_estimators', 1000), ('reg_lambda', 9), ('scale_pos_weight', 1), ('subsample', 1.0)])\n",
      ">acc=1.000, cfg=OrderedDict([('colsample_bylevel', 0.2733721733292958), ('colsample_bynode', 0.5642350309051496), ('colsample_bytree', 0.6054502181202731), ('gamma', 0), ('learning_rate', 0.01), ('max_depth', 4), ('n_estimators', 772), ('reg_lambda', 2), ('scale_pos_weight', 2), ('subsample', 0.9783125269859383)])\n",
      ">acc=1.000, cfg=OrderedDict([('colsample_bylevel', 0.2), ('colsample_bynode', 0.8), ('colsample_bytree', 0.3633752835706512), ('gamma', 0), ('learning_rate', 0.01), ('max_depth', 10), ('n_estimators', 1000), ('reg_lambda', 3), ('scale_pos_weight', 2), ('subsample', 1.0)])\n",
      ">acc=1.000, cfg=OrderedDict([('colsample_bylevel', 0.37105955132125656), ('colsample_bynode', 0.2), ('colsample_bytree', 1.0), ('gamma', 3), ('learning_rate', 0.01), ('max_depth', 4), ('n_estimators', 766), ('reg_lambda', 4), ('scale_pos_weight', 1), ('subsample', 1.0)])\n",
      ">acc=1.000, cfg=OrderedDict([('colsample_bylevel', 0.4209022877709869), ('colsample_bynode', 0.45097569861028936), ('colsample_bytree', 0.7484325940149058), ('gamma', 0), ('learning_rate', 0.18778533437645223), ('max_depth', 10), ('n_estimators', 574), ('reg_lambda', 3), ('scale_pos_weight', 4), ('subsample', 0.803605610560405)])\n"
     ]
    },
    {
     "name": "stdout",
     "output_type": "stream",
     "text": [
      ">acc=0.000, cfg=OrderedDict([('colsample_bylevel', 0.24883882159456094), ('colsample_bynode', 0.36750026827196197), ('colsample_bytree', 0.6879442455395269), ('gamma', 4), ('learning_rate', 0.13925431070437774), ('max_depth', 7), ('n_estimators', 970), ('reg_lambda', 3), ('scale_pos_weight', 3), ('subsample', 0.9385144165203033)])\n",
      ">acc=1.000, cfg=OrderedDict([('colsample_bylevel', 0.48525859734224613), ('colsample_bynode', 0.6337986463579595), ('colsample_bytree', 0.802584078328353), ('gamma', 0), ('learning_rate', 0.01), ('max_depth', 4), ('n_estimators', 1000), ('reg_lambda', 8), ('scale_pos_weight', 1), ('subsample', 1.0)])\n",
      ">acc=0.000, cfg=OrderedDict([('colsample_bylevel', 0.5875416227392792), ('colsample_bynode', 0.274247767825687), ('colsample_bytree', 0.16202297197908316), ('gamma', 0), ('learning_rate', 0.10204371614898114), ('max_depth', 6), ('n_estimators', 1000), ('reg_lambda', 10), ('scale_pos_weight', 4), ('subsample', 1.0)])\n",
      ">acc=1.000, cfg=OrderedDict([('colsample_bylevel', 0.4152524599299239), ('colsample_bynode', 0.7518799719713889), ('colsample_bytree', 0.7946826920319867), ('gamma', 0), ('learning_rate', 0.11962789569563577), ('max_depth', 7), ('n_estimators', 100), ('reg_lambda', 5), ('scale_pos_weight', 2), ('subsample', 0.7965067685355522)])\n",
      ">acc=1.000, cfg=OrderedDict([('colsample_bylevel', 0.2), ('colsample_bynode', 0.6755539638493754), ('colsample_bytree', 1.0), ('gamma', 1), ('learning_rate', 0.28595673810963756), ('max_depth', 10), ('n_estimators', 231), ('reg_lambda', 10), ('scale_pos_weight', 2), ('subsample', 0.7960060181595257)])\n",
      ">acc=0.000, cfg=OrderedDict([('colsample_bylevel', 0.21869058368637437), ('colsample_bynode', 0.6148471762051908), ('colsample_bytree', 0.8357050578787159), ('gamma', 1), ('learning_rate', 0.05496945976638939), ('max_depth', 9), ('n_estimators', 194), ('reg_lambda', 8), ('scale_pos_weight', 2), ('subsample', 1.0)])\n",
      ">acc=1.000, cfg=OrderedDict([('colsample_bylevel', 0.8), ('colsample_bynode', 0.2), ('colsample_bytree', 0.27505401626828907), ('gamma', 0), ('learning_rate', 0.19894812555655403), ('max_depth', 10), ('n_estimators', 504), ('reg_lambda', 3), ('scale_pos_weight', 2), ('subsample', 1.0)])\n",
      ">acc=1.000, cfg=OrderedDict([('colsample_bylevel', 0.8), ('colsample_bynode', 0.6353475805203399), ('colsample_bytree', 0.1), ('gamma', 0), ('learning_rate', 0.01), ('max_depth', 10), ('n_estimators', 1000), ('reg_lambda', 5), ('scale_pos_weight', 2), ('subsample', 0.9335737331413652)])\n",
      ">acc=1.000, cfg=OrderedDict([('colsample_bylevel', 0.30138043537290204), ('colsample_bynode', 0.24487286309509212), ('colsample_bytree', 0.9210742226669772), ('gamma', 2), ('learning_rate', 0.04702448247594703), ('max_depth', 7), ('n_estimators', 947), ('reg_lambda', 0), ('scale_pos_weight', 3), ('subsample', 0.8949114970473919)])\n",
      ">acc=0.000, cfg=OrderedDict([('colsample_bylevel', 0.34486663147628216), ('colsample_bynode', 0.3000106674754481), ('colsample_bytree', 0.47069077813286253), ('gamma', 1), ('learning_rate', 0.01), ('max_depth', 10), ('n_estimators', 1000), ('reg_lambda', 8), ('scale_pos_weight', 2), ('subsample', 1.0)])\n",
      ">acc=1.000, cfg=OrderedDict([('colsample_bylevel', 0.6494499946694126), ('colsample_bynode', 0.6775504974357991), ('colsample_bytree', 0.1), ('gamma', 0), ('learning_rate', 0.01), ('max_depth', 3), ('n_estimators', 603), ('reg_lambda', 1), ('scale_pos_weight', 1), ('subsample', 1.0)])\n",
      ">acc=0.667, cfg=OrderedDict([('colsample_bylevel', 0.644354093990914), ('colsample_bynode', 0.7217069514222312), ('colsample_bytree', 0.38618766786703196), ('gamma', 5), ('learning_rate', 0.5396538452208548), ('max_depth', 8), ('n_estimators', 778), ('reg_lambda', 6), ('scale_pos_weight', 3), ('subsample', 0.4826592706651882)])\n",
      ">acc=1.000, cfg=OrderedDict([('colsample_bylevel', 0.7647056942754014), ('colsample_bynode', 0.5789156619253168), ('colsample_bytree', 0.9404142880709888), ('gamma', 0), ('learning_rate', 0.01), ('max_depth', 4), ('n_estimators', 1000), ('reg_lambda', 4), ('scale_pos_weight', 1), ('subsample', 1.0)])\n",
      ">acc=1.000, cfg=OrderedDict([('colsample_bylevel', 0.20129995801217146), ('colsample_bynode', 0.8), ('colsample_bytree', 1.0), ('gamma', 0), ('learning_rate', 0.01), ('max_depth', 6), ('n_estimators', 775), ('reg_lambda', 5), ('scale_pos_weight', 3), ('subsample', 0.9105703531325342)])\n",
      ">acc=1.000, cfg=OrderedDict([('colsample_bylevel', 0.270570439137575), ('colsample_bynode', 0.7544554361095575), ('colsample_bytree', 1.0), ('gamma', 0), ('learning_rate', 0.3884483218271403), ('max_depth', 9), ('n_estimators', 144), ('reg_lambda', 7), ('scale_pos_weight', 5), ('subsample', 0.8877290177077418)])\n",
      ">acc=1.000, cfg=OrderedDict([('colsample_bylevel', 0.8), ('colsample_bynode', 0.2336537437289497), ('colsample_bytree', 0.3659869144110508), ('gamma', 0), ('learning_rate', 0.038410315085955854), ('max_depth', 10), ('n_estimators', 668), ('reg_lambda', 0), ('scale_pos_weight', 1), ('subsample', 1.0)])\n",
      ">acc=1.000, cfg=OrderedDict([('colsample_bylevel', 0.5048921506253587), ('colsample_bynode', 0.658061609220531), ('colsample_bytree', 0.27156417470566335), ('gamma', 0), ('learning_rate', 0.01), ('max_depth', 9), ('n_estimators', 677), ('reg_lambda', 6), ('scale_pos_weight', 2), ('subsample', 0.8037152185191286)])\n",
      ">acc=1.000, cfg=OrderedDict([('colsample_bylevel', 0.25061907845112597), ('colsample_bynode', 0.7896498149830111), ('colsample_bytree', 0.4467050939897166), ('gamma', 0), ('learning_rate', 0.4586972226173147), ('max_depth', 7), ('n_estimators', 723), ('reg_lambda', 8), ('scale_pos_weight', 4), ('subsample', 1.0)])\n",
      ">acc=1.000, cfg=OrderedDict([('colsample_bylevel', 0.8), ('colsample_bynode', 0.586949295936424), ('colsample_bytree', 0.7718318861579849), ('gamma', 0), ('learning_rate', 0.4456821116113292), ('max_depth', 10), ('n_estimators', 100), ('reg_lambda', 10), ('scale_pos_weight', 2), ('subsample', 0.5673572304953983)])\n",
      ">acc=1.000, cfg=OrderedDict([('colsample_bylevel', 0.2), ('colsample_bynode', 0.5140393828188843), ('colsample_bytree', 1.0), ('gamma', 0), ('learning_rate', 0.041148686367803944), ('max_depth', 5), ('n_estimators', 1000), ('reg_lambda', 10), ('scale_pos_weight', 3), ('subsample', 0.7540549085836457)])\n",
      ">acc=1.000, cfg=OrderedDict([('colsample_bylevel', 0.4686287406624339), ('colsample_bynode', 0.46029412073009796), ('colsample_bytree', 0.6517858971419741), ('gamma', 4), ('learning_rate', 0.22967780586723527), ('max_depth', 5), ('n_estimators', 334), ('reg_lambda', 7), ('scale_pos_weight', 2), ('subsample', 0.613128660499527)])\n",
      ">acc=1.000, cfg=OrderedDict([('colsample_bylevel', 0.8), ('colsample_bynode', 0.39011440709985445), ('colsample_bytree', 0.8269762534253988), ('gamma', 0), ('learning_rate', 0.01), ('max_depth', 6), ('n_estimators', 1000), ('reg_lambda', 7), ('scale_pos_weight', 2), ('subsample', 1.0)])\n",
      ">acc=1.000, cfg=OrderedDict([('colsample_bylevel', 0.6127296873650954), ('colsample_bynode', 0.8), ('colsample_bytree', 0.13490507752412673), ('gamma', 0), ('learning_rate', 0.01), ('max_depth', 7), ('n_estimators', 1000), ('reg_lambda', 3), ('scale_pos_weight', 2), ('subsample', 1.0)])\n",
      ">acc=0.667, cfg=OrderedDict([('colsample_bylevel', 0.7174252060752402), ('colsample_bynode', 0.2746236432372106), ('colsample_bytree', 1.0), ('gamma', 0), ('learning_rate', 0.01), ('max_depth', 7), ('n_estimators', 794), ('reg_lambda', 10), ('scale_pos_weight', 2), ('subsample', 1.0)])\n",
      ">acc=1.000, cfg=OrderedDict([('colsample_bylevel', 0.2), ('colsample_bynode', 0.6789749578065292), ('colsample_bytree', 0.40675864472185386), ('gamma', 0), ('learning_rate', 0.01), ('max_depth', 4), ('n_estimators', 894), ('reg_lambda', 5), ('scale_pos_weight', 2), ('subsample', 1.0)])\n",
      ">acc=1.000, cfg=OrderedDict([('colsample_bylevel', 0.6028135052319814), ('colsample_bynode', 0.5025039919211041), ('colsample_bytree', 0.43167067903540546), ('gamma', 0), ('learning_rate', 0.18589835763931262), ('max_depth', 8), ('n_estimators', 1000), ('reg_lambda', 10), ('scale_pos_weight', 5), ('subsample', 1.0)])\n",
      ">acc=0.333, cfg=OrderedDict([('colsample_bylevel', 0.4215550735026252), ('colsample_bynode', 0.6796449144621854), ('colsample_bytree', 0.5256949721724169), ('gamma', 0), ('learning_rate', 0.28749661026229667), ('max_depth', 8), ('n_estimators', 100), ('reg_lambda', 7), ('scale_pos_weight', 4), ('subsample', 0.8820111460188267)])\n"
     ]
    },
    {
     "name": "stdout",
     "output_type": "stream",
     "text": [
      ">acc=1.000, cfg=OrderedDict([('colsample_bylevel', 0.41030087411092353), ('colsample_bynode', 0.8), ('colsample_bytree', 1.0), ('gamma', 0), ('learning_rate', 0.42210919444496153), ('max_depth', 10), ('n_estimators', 100), ('reg_lambda', 10), ('scale_pos_weight', 5), ('subsample', 1.0)])\n",
      ">acc=1.000, cfg=OrderedDict([('colsample_bylevel', 0.5300077325503887), ('colsample_bynode', 0.6282923339451746), ('colsample_bytree', 0.3943511404097354), ('gamma', 1), ('learning_rate', 0.01), ('max_depth', 10), ('n_estimators', 1000), ('reg_lambda', 6), ('scale_pos_weight', 3), ('subsample', 1.0)])\n",
      ">acc=1.000, cfg=OrderedDict([('colsample_bylevel', 0.8), ('colsample_bynode', 0.2948149863714571), ('colsample_bytree', 0.2927013118796009), ('gamma', 4), ('learning_rate', 0.37765476583278407), ('max_depth', 10), ('n_estimators', 404), ('reg_lambda', 8), ('scale_pos_weight', 2), ('subsample', 0.8336401284248461)])\n",
      ">acc=1.000, cfg=OrderedDict([('colsample_bylevel', 0.5616449987371873), ('colsample_bynode', 0.5354915048327336), ('colsample_bytree', 0.8526629090821816), ('gamma', 2), ('learning_rate', 0.23145871878655597), ('max_depth', 7), ('n_estimators', 463), ('reg_lambda', 5), ('scale_pos_weight', 3), ('subsample', 0.5194882173424511)])\n",
      ">acc=1.000, cfg=OrderedDict([('colsample_bylevel', 0.3959219283454527), ('colsample_bynode', 0.4286245191758631), ('colsample_bytree', 0.5280912233985968), ('gamma', 0), ('learning_rate', 0.05978139169362215), ('max_depth', 10), ('n_estimators', 785), ('reg_lambda', 6), ('scale_pos_weight', 4), ('subsample', 1.0)])\n",
      ">acc=1.000, cfg=OrderedDict([('colsample_bylevel', 0.8), ('colsample_bynode', 0.8), ('colsample_bytree', 1.0), ('gamma', 0), ('learning_rate', 0.01), ('max_depth', 10), ('n_estimators', 674), ('reg_lambda', 5), ('scale_pos_weight', 2), ('subsample', 0.9122394867135927)])\n",
      ">acc=1.000, cfg=OrderedDict([('colsample_bylevel', 0.690546468968545), ('colsample_bynode', 0.2), ('colsample_bytree', 1.0), ('gamma', 0), ('learning_rate', 0.09314037582666818), ('max_depth', 10), ('n_estimators', 1000), ('reg_lambda', 6), ('scale_pos_weight', 5), ('subsample', 1.0)])\n",
      ">acc=1.000, cfg=OrderedDict([('colsample_bylevel', 0.8), ('colsample_bynode', 0.4633209970445392), ('colsample_bytree', 1.0), ('gamma', 0), ('learning_rate', 0.7545708485179403), ('max_depth', 8), ('n_estimators', 1000), ('reg_lambda', 9), ('scale_pos_weight', 4), ('subsample', 1.0)])\n",
      ">acc=1.000, cfg=OrderedDict([('colsample_bylevel', 0.7819066722064869), ('colsample_bynode', 0.6490416930732998), ('colsample_bytree', 0.5526778459139975), ('gamma', 1), ('learning_rate', 0.19950049078407606), ('max_depth', 4), ('n_estimators', 553), ('reg_lambda', 8), ('scale_pos_weight', 2), ('subsample', 1.0)])\n",
      ">acc=1.000, cfg=OrderedDict([('colsample_bylevel', 0.7916069976056193), ('colsample_bynode', 0.2606402020925017), ('colsample_bytree', 1.0), ('gamma', 0), ('learning_rate', 0.4220531057360007), ('max_depth', 5), ('n_estimators', 100), ('reg_lambda', 10), ('scale_pos_weight', 5), ('subsample', 1.0)])\n",
      ">acc=1.000, cfg=OrderedDict([('colsample_bylevel', 0.3744605793361345), ('colsample_bynode', 0.8), ('colsample_bytree', 0.6753160667095999), ('gamma', 0), ('learning_rate', 0.01), ('max_depth', 8), ('n_estimators', 750), ('reg_lambda', 10), ('scale_pos_weight', 2), ('subsample', 1.0)])\n",
      ">acc=1.000, cfg=OrderedDict([('colsample_bylevel', 0.5125868095749997), ('colsample_bynode', 0.4140406652756111), ('colsample_bytree', 0.22177486907161528), ('gamma', 0), ('learning_rate', 0.04463344367373002), ('max_depth', 6), ('n_estimators', 152), ('reg_lambda', 1), ('scale_pos_weight', 2), ('subsample', 0.746323777266889)])\n",
      ">acc=1.000, cfg=OrderedDict([('colsample_bylevel', 0.5414117109246044), ('colsample_bynode', 0.2540317219213028), ('colsample_bytree', 0.5994001501246409), ('gamma', 0), ('learning_rate', 0.01), ('max_depth', 10), ('n_estimators', 426), ('reg_lambda', 10), ('scale_pos_weight', 1), ('subsample', 1.0)])\n",
      ">acc=1.000, cfg=OrderedDict([('colsample_bylevel', 0.25194808485989384), ('colsample_bynode', 0.5545153322008769), ('colsample_bytree', 0.26620396341945773), ('gamma', 0), ('learning_rate', 0.44105456505137214), ('max_depth', 5), ('n_estimators', 163), ('reg_lambda', 1), ('scale_pos_weight', 2), ('subsample', 0.9701978367098159)])\n",
      ">acc=1.000, cfg=OrderedDict([('colsample_bylevel', 0.2), ('colsample_bynode', 0.8), ('colsample_bytree', 0.34021291872448045), ('gamma', 0), ('learning_rate', 0.01), ('max_depth', 7), ('n_estimators', 757), ('reg_lambda', 4), ('scale_pos_weight', 1), ('subsample', 0.4791658802099372)])\n",
      ">acc=1.000, cfg=OrderedDict([('colsample_bylevel', 0.39854518865953825), ('colsample_bynode', 0.2), ('colsample_bytree', 1.0), ('gamma', 0), ('learning_rate', 0.01), ('max_depth', 9), ('n_estimators', 1000), ('reg_lambda', 1), ('scale_pos_weight', 1), ('subsample', 0.5772663296260288)])\n",
      ">acc=1.000, cfg=OrderedDict([('colsample_bylevel', 0.40231529824841417), ('colsample_bynode', 0.4910382870690533), ('colsample_bytree', 0.1), ('gamma', 0), ('learning_rate', 0.01), ('max_depth', 5), ('n_estimators', 446), ('reg_lambda', 4), ('scale_pos_weight', 1), ('subsample', 1.0)])\n",
      ">acc=1.000, cfg=OrderedDict([('colsample_bylevel', 0.224046983545938), ('colsample_bynode', 0.47077700753828006), ('colsample_bytree', 1.0), ('gamma', 0), ('learning_rate', 0.01), ('max_depth', 4), ('n_estimators', 1000), ('reg_lambda', 5), ('scale_pos_weight', 4), ('subsample', 1.0)])\n",
      ">acc=1.000, cfg=OrderedDict([('colsample_bylevel', 0.2), ('colsample_bynode', 0.25341141779025916), ('colsample_bytree', 0.9632020772849209), ('gamma', 0), ('learning_rate', 0.01), ('max_depth', 3), ('n_estimators', 1000), ('reg_lambda', 0), ('scale_pos_weight', 1), ('subsample', 0.6972273993556215)])\n",
      ">acc=1.000, cfg=OrderedDict([('colsample_bylevel', 0.772903165717935), ('colsample_bynode', 0.8), ('colsample_bytree', 0.38625556104202596), ('gamma', 0), ('learning_rate', 0.30782076863932695), ('max_depth', 10), ('n_estimators', 904), ('reg_lambda', 9), ('scale_pos_weight', 2), ('subsample', 1.0)])\n",
      ">acc=0.000, cfg=OrderedDict([('colsample_bylevel', 0.2601786888205312), ('colsample_bynode', 0.2377299393117266), ('colsample_bytree', 0.9662135399294118), ('gamma', 0), ('learning_rate', 0.08716595047205494), ('max_depth', 4), ('n_estimators', 202), ('reg_lambda', 7), ('scale_pos_weight', 3), ('subsample', 0.8773473309069847)])\n",
      ">acc=0.667, cfg=OrderedDict([('colsample_bylevel', 0.8), ('colsample_bynode', 0.5881508021923249), ('colsample_bytree', 0.41079560316985864), ('gamma', 0), ('learning_rate', 0.01), ('max_depth', 10), ('n_estimators', 860), ('reg_lambda', 4), ('scale_pos_weight', 2), ('subsample', 1.0)])\n",
      ">acc=0.333, cfg=OrderedDict([('colsample_bylevel', 0.2), ('colsample_bynode', 0.5556480690390195), ('colsample_bytree', 0.6980065303192264), ('gamma', 0), ('learning_rate', 0.557355633604448), ('max_depth', 10), ('n_estimators', 705), ('reg_lambda', 10), ('scale_pos_weight', 5), ('subsample', 1.0)])\n",
      ">acc=1.000, cfg=OrderedDict([('colsample_bylevel', 0.6948142665740968), ('colsample_bynode', 0.22952692389146784), ('colsample_bytree', 0.6727244653225999), ('gamma', 1), ('learning_rate', 0.01), ('max_depth', 7), ('n_estimators', 580), ('reg_lambda', 4), ('scale_pos_weight', 2), ('subsample', 1.0)])\n",
      ">acc=1.000, cfg=OrderedDict([('colsample_bylevel', 0.2), ('colsample_bynode', 0.2), ('colsample_bytree', 0.6314487400679805), ('gamma', 0), ('learning_rate', 0.01), ('max_depth', 6), ('n_estimators', 635), ('reg_lambda', 8), ('scale_pos_weight', 1), ('subsample', 0.6612516366687088)])\n",
      ">acc=0.667, cfg=OrderedDict([('colsample_bylevel', 0.2), ('colsample_bynode', 0.8), ('colsample_bytree', 0.5647316838053329), ('gamma', 1), ('learning_rate', 0.01), ('max_depth', 5), ('n_estimators', 828), ('reg_lambda', 8), ('scale_pos_weight', 1), ('subsample', 1.0)])\n",
      ">acc=1.000, cfg=OrderedDict([('colsample_bylevel', 0.6532165769148361), ('colsample_bynode', 0.8), ('colsample_bytree', 0.6549729761613492), ('gamma', 1), ('learning_rate', 0.01), ('max_depth', 6), ('n_estimators', 971), ('reg_lambda', 6), ('scale_pos_weight', 2), ('subsample', 0.7623631135865835)])\n",
      ">acc=1.000, cfg=OrderedDict([('colsample_bylevel', 0.5532365402804144), ('colsample_bynode', 0.6832352278793027), ('colsample_bytree', 1.0), ('gamma', 0), ('learning_rate', 0.01), ('max_depth', 8), ('n_estimators', 1000), ('reg_lambda', 5), ('scale_pos_weight', 2), ('subsample', 1.0)])\n"
     ]
    },
    {
     "name": "stderr",
     "output_type": "stream",
     "text": [
      "C:\\Users\\lskus\\anaconda3\\envs\\gradboost\\lib\\site-packages\\skopt\\optimizer\\optimizer.py:449: UserWarning: The objective has been evaluated at this point before.\n",
      "  warnings.warn(\"The objective has been evaluated \"\n"
     ]
    },
    {
     "name": "stdout",
     "output_type": "stream",
     "text": [
      ">acc=1.000, cfg=OrderedDict([('colsample_bylevel', 0.24721715175654232), ('colsample_bynode', 0.7510215398763835), ('colsample_bytree', 0.7524786003600984), ('gamma', 1), ('learning_rate', 0.10985374368289831), ('max_depth', 8), ('n_estimators', 981), ('reg_lambda', 7), ('scale_pos_weight', 5), ('subsample', 0.9985852086477118)])\n",
      ">acc=1.000, cfg=OrderedDict([('colsample_bylevel', 0.39513427045701865), ('colsample_bynode', 0.21674614553579316), ('colsample_bytree', 0.436297311325304), ('gamma', 0), ('learning_rate', 0.17270139318644717), ('max_depth', 7), ('n_estimators', 945), ('reg_lambda', 4), ('scale_pos_weight', 3), ('subsample', 0.7852217840927038)])\n",
      ">acc=1.000, cfg=OrderedDict([('colsample_bylevel', 0.24951444282490903), ('colsample_bynode', 0.6758348987547429), ('colsample_bytree', 1.0), ('gamma', 0), ('learning_rate', 0.01), ('max_depth', 4), ('n_estimators', 1000), ('reg_lambda', 10), ('scale_pos_weight', 2), ('subsample', 0.7756797216601816)])\n",
      ">acc=1.000, cfg=OrderedDict([('colsample_bylevel', 0.7516903929113039), ('colsample_bynode', 0.7481282099940925), ('colsample_bytree', 0.9777422812939086), ('gamma', 0), ('learning_rate', 0.514013304781185), ('max_depth', 5), ('n_estimators', 548), ('reg_lambda', 2), ('scale_pos_weight', 5), ('subsample', 0.7106140953075527)])\n",
      ">acc=1.000, cfg=OrderedDict([('colsample_bylevel', 0.5629563456580948), ('colsample_bynode', 0.2), ('colsample_bytree', 0.3428070475277525), ('gamma', 0), ('learning_rate', 0.40363784377213585), ('max_depth', 8), ('n_estimators', 424), ('reg_lambda', 6), ('scale_pos_weight', 5), ('subsample', 1.0)])\n",
      ">acc=1.000, cfg=OrderedDict([('colsample_bylevel', 0.4999404427287599), ('colsample_bynode', 0.2883586058788942), ('colsample_bytree', 1.0), ('gamma', 0), ('learning_rate', 0.01), ('max_depth', 3), ('n_estimators', 944), ('reg_lambda', 3), ('scale_pos_weight', 3), ('subsample', 1.0)])\n",
      ">acc=1.000, cfg=OrderedDict([('colsample_bylevel', 0.7008620246606598), ('colsample_bynode', 0.2), ('colsample_bytree', 0.26141634720185836), ('gamma', 1), ('learning_rate', 0.01), ('max_depth', 7), ('n_estimators', 906), ('reg_lambda', 2), ('scale_pos_weight', 2), ('subsample', 0.6609259523943486)])\n",
      ">acc=1.000, cfg=OrderedDict([('colsample_bylevel', 0.7175844781819629), ('colsample_bynode', 0.2), ('colsample_bytree', 0.375739814978024), ('gamma', 2), ('learning_rate', 0.01), ('max_depth', 3), ('n_estimators', 956), ('reg_lambda', 7), ('scale_pos_weight', 2), ('subsample', 0.8728489679029618)])\n",
      ">acc=1.000, cfg=OrderedDict([('colsample_bylevel', 0.7859217832942487), ('colsample_bynode', 0.7224950703867152), ('colsample_bytree', 0.5310176545576951), ('gamma', 1), ('learning_rate', 0.01), ('max_depth', 9), ('n_estimators', 615), ('reg_lambda', 0), ('scale_pos_weight', 2), ('subsample', 0.6740531748963334)])\n",
      ">acc=1.000, cfg=OrderedDict([('colsample_bylevel', 0.732381776556255), ('colsample_bynode', 0.35969796661016723), ('colsample_bytree', 0.5913900702111263), ('gamma', 0), ('learning_rate', 0.01), ('max_depth', 10), ('n_estimators', 793), ('reg_lambda', 4), ('scale_pos_weight', 3), ('subsample', 0.7637602736567841)])\n",
      ">acc=0.000, cfg=OrderedDict([('colsample_bylevel', 0.2), ('colsample_bynode', 0.6695476138510698), ('colsample_bytree', 0.2619521585370731), ('gamma', 1), ('learning_rate', 0.1544696363263348), ('max_depth', 8), ('n_estimators', 1000), ('reg_lambda', 3), ('scale_pos_weight', 2), ('subsample', 1.0)])\n",
      ">acc=1.000, cfg=OrderedDict([('colsample_bylevel', 0.6754868290877514), ('colsample_bynode', 0.21605495965183097), ('colsample_bytree', 0.35886968114990336), ('gamma', 1), ('learning_rate', 0.49630023573496745), ('max_depth', 9), ('n_estimators', 443), ('reg_lambda', 9), ('scale_pos_weight', 3), ('subsample', 0.8635804392165479)])\n",
      ">acc=1.000, cfg=OrderedDict([('colsample_bylevel', 0.6109361249398729), ('colsample_bynode', 0.2497151292244291), ('colsample_bytree', 0.9932271158512719), ('gamma', 0), ('learning_rate', 0.029640632954586056), ('max_depth', 6), ('n_estimators', 621), ('reg_lambda', 6), ('scale_pos_weight', 4), ('subsample', 1.0)])\n",
      ">acc=0.000, cfg=OrderedDict([('colsample_bylevel', 0.47681700843059877), ('colsample_bynode', 0.6119898707104376), ('colsample_bytree', 0.5780895054058874), ('gamma', 0), ('learning_rate', 0.1483957544676819), ('max_depth', 10), ('n_estimators', 1000), ('reg_lambda', 5), ('scale_pos_weight', 2), ('subsample', 1.0)])\n",
      ">acc=1.000, cfg=OrderedDict([('colsample_bylevel', 0.6921640102571242), ('colsample_bynode', 0.2), ('colsample_bytree', 1.0), ('gamma', 0), ('learning_rate', 0.01), ('max_depth', 10), ('n_estimators', 964), ('reg_lambda', 3), ('scale_pos_weight', 3), ('subsample', 0.6191367184714964)])\n",
      ">acc=1.000, cfg=OrderedDict([('colsample_bylevel', 0.7529621663750805), ('colsample_bynode', 0.49475399258905156), ('colsample_bytree', 0.1), ('gamma', 2), ('learning_rate', 0.010953864251921089), ('max_depth', 9), ('n_estimators', 419), ('reg_lambda', 2), ('scale_pos_weight', 1), ('subsample', 0.9088191664156969)])\n",
      ">acc=1.000, cfg=OrderedDict([('colsample_bylevel', 0.3415985639015784), ('colsample_bynode', 0.5201363037672757), ('colsample_bytree', 0.5903291254121843), ('gamma', 0), ('learning_rate', 0.01), ('max_depth', 5), ('n_estimators', 1000), ('reg_lambda', 7), ('scale_pos_weight', 2), ('subsample', 1.0)])\n",
      ">acc=0.000, cfg=OrderedDict([('colsample_bylevel', 0.39843016402161946), ('colsample_bynode', 0.8), ('colsample_bytree', 0.203008692015345), ('gamma', 0), ('learning_rate', 0.01), ('max_depth', 4), ('n_estimators', 335), ('reg_lambda', 0), ('scale_pos_weight', 1), ('subsample', 1.0)])\n",
      ">acc=1.000, cfg=OrderedDict([('colsample_bylevel', 0.6556980181227368), ('colsample_bynode', 0.2), ('colsample_bytree', 0.3764795975009555), ('gamma', 1), ('learning_rate', 0.01), ('max_depth', 9), ('n_estimators', 596), ('reg_lambda', 2), ('scale_pos_weight', 2), ('subsample', 0.9097743595378426)])\n",
      ">acc=1.000, cfg=OrderedDict([('colsample_bylevel', 0.4543306557661555), ('colsample_bynode', 0.21286015247063048), ('colsample_bytree', 0.8580945979262121), ('gamma', 0), ('learning_rate', 0.01), ('max_depth', 8), ('n_estimators', 1000), ('reg_lambda', 0), ('scale_pos_weight', 2), ('subsample', 1.0)])\n",
      ">acc=1.000, cfg=OrderedDict([('colsample_bylevel', 0.2), ('colsample_bynode', 0.8), ('colsample_bytree', 0.4443188908849621), ('gamma', 0), ('learning_rate', 0.01), ('max_depth', 10), ('n_estimators', 903), ('reg_lambda', 5), ('scale_pos_weight', 2), ('subsample', 1.0)])\n",
      ">acc=1.000, cfg=OrderedDict([('colsample_bylevel', 0.6264734133022096), ('colsample_bynode', 0.2), ('colsample_bytree', 1.0), ('gamma', 1), ('learning_rate', 0.01), ('max_depth', 8), ('n_estimators', 930), ('reg_lambda', 8), ('scale_pos_weight', 2), ('subsample', 1.0)])\n",
      ">acc=1.000, cfg=OrderedDict([('colsample_bylevel', 0.4327269261189528), ('colsample_bynode', 0.20715358863049166), ('colsample_bytree', 1.0), ('gamma', 0), ('learning_rate', 0.06425180741650151), ('max_depth', 9), ('n_estimators', 1000), ('reg_lambda', 10), ('scale_pos_weight', 3), ('subsample', 0.8590762779436162)])\n",
      ">acc=1.000, cfg=OrderedDict([('colsample_bylevel', 0.2), ('colsample_bynode', 0.8), ('colsample_bytree', 0.7002964107364598), ('gamma', 0), ('learning_rate', 0.1453724854977772), ('max_depth', 10), ('n_estimators', 762), ('reg_lambda', 10), ('scale_pos_weight', 5), ('subsample', 0.8410025544573283)])\n",
      ">acc=1.000, cfg=OrderedDict([('colsample_bylevel', 0.2), ('colsample_bynode', 0.2), ('colsample_bytree', 1.0), ('gamma', 0), ('learning_rate', 0.022404667627468115), ('max_depth', 9), ('n_estimators', 931), ('reg_lambda', 0), ('scale_pos_weight', 3), ('subsample', 1.0)])\n",
      ">acc=0.333, cfg=OrderedDict([('colsample_bylevel', 0.5727330321677224), ('colsample_bynode', 0.8), ('colsample_bytree', 0.9589603630304149), ('gamma', 0), ('learning_rate', 0.07162545186270038), ('max_depth', 8), ('n_estimators', 648), ('reg_lambda', 8), ('scale_pos_weight', 2), ('subsample', 0.9762619258594818)])\n",
      ">acc=1.000, cfg=OrderedDict([('colsample_bylevel', 0.8), ('colsample_bynode', 0.8), ('colsample_bytree', 0.30537953806776597), ('gamma', 3), ('learning_rate', 0.18244292865115974), ('max_depth', 10), ('n_estimators', 760), ('reg_lambda', 3), ('scale_pos_weight', 2), ('subsample', 1.0)])\n"
     ]
    },
    {
     "name": "stdout",
     "output_type": "stream",
     "text": [
      ">acc=1.000, cfg=OrderedDict([('colsample_bylevel', 0.6396764319549056), ('colsample_bynode', 0.7855279502596908), ('colsample_bytree', 0.23626082448476957), ('gamma', 1), ('learning_rate', 0.22430699083787348), ('max_depth', 6), ('n_estimators', 615), ('reg_lambda', 8), ('scale_pos_weight', 5), ('subsample', 1.0)])\n",
      ">acc=1.000, cfg=OrderedDict([('colsample_bylevel', 0.6449832527486179), ('colsample_bynode', 0.51387769623318), ('colsample_bytree', 0.9039830195274309), ('gamma', 1), ('learning_rate', 0.01), ('max_depth', 8), ('n_estimators', 943), ('reg_lambda', 6), ('scale_pos_weight', 2), ('subsample', 0.4873223106377649)])\n",
      ">acc=1.000, cfg=OrderedDict([('colsample_bylevel', 0.2), ('colsample_bynode', 0.8), ('colsample_bytree', 0.8030044111154918), ('gamma', 0), ('learning_rate', 0.01), ('max_depth', 7), ('n_estimators', 1000), ('reg_lambda', 5), ('scale_pos_weight', 2), ('subsample', 0.8782285401168713)])\n",
      ">acc=1.000, cfg=OrderedDict([('colsample_bylevel', 0.8), ('colsample_bynode', 0.2), ('colsample_bytree', 0.1), ('gamma', 0), ('learning_rate', 0.01), ('max_depth', 6), ('n_estimators', 1000), ('reg_lambda', 0), ('scale_pos_weight', 1), ('subsample', 0.8007438822063216)])\n",
      ">acc=1.000, cfg=OrderedDict([('colsample_bylevel', 0.24447986295946308), ('colsample_bynode', 0.8), ('colsample_bytree', 0.33247193699112504), ('gamma', 0), ('learning_rate', 0.2707404857607112), ('max_depth', 3), ('n_estimators', 791), ('reg_lambda', 0), ('scale_pos_weight', 3), ('subsample', 1.0)])\n",
      ">acc=1.000, cfg=OrderedDict([('colsample_bylevel', 0.8), ('colsample_bynode', 0.8), ('colsample_bytree', 0.31081273123024555), ('gamma', 0), ('learning_rate', 0.01), ('max_depth', 10), ('n_estimators', 1000), ('reg_lambda', 9), ('scale_pos_weight', 3), ('subsample', 1.0)])\n",
      ">acc=1.000, cfg=OrderedDict([('colsample_bylevel', 0.8), ('colsample_bynode', 0.8), ('colsample_bytree', 0.5434505035686433), ('gamma', 0), ('learning_rate', 0.01), ('max_depth', 4), ('n_estimators', 1000), ('reg_lambda', 3), ('scale_pos_weight', 2), ('subsample', 0.9326883109935344)])\n",
      ">acc=1.000, cfg=OrderedDict([('colsample_bylevel', 0.8), ('colsample_bynode', 0.2), ('colsample_bytree', 0.36280505144909625), ('gamma', 0), ('learning_rate', 0.3081811319231164), ('max_depth', 10), ('n_estimators', 949), ('reg_lambda', 10), ('scale_pos_weight', 5), ('subsample', 1.0)])\n",
      ">acc=1.000, cfg=OrderedDict([('colsample_bylevel', 0.29926511886543083), ('colsample_bynode', 0.2716267429403992), ('colsample_bytree', 1.0), ('gamma', 0), ('learning_rate', 0.01), ('max_depth', 10), ('n_estimators', 676), ('reg_lambda', 3), ('scale_pos_weight', 2), ('subsample', 0.8963248376708736)])\n",
      ">acc=1.000, cfg=OrderedDict([('colsample_bylevel', 0.2), ('colsample_bynode', 0.8), ('colsample_bytree', 0.8210787287242243), ('gamma', 0), ('learning_rate', 0.5920200098063708), ('max_depth', 5), ('n_estimators', 160), ('reg_lambda', 8), ('scale_pos_weight', 1), ('subsample', 0.7839174871139415)])\n",
      ">acc=1.000, cfg=OrderedDict([('colsample_bylevel', 0.8), ('colsample_bynode', 0.631705471043118), ('colsample_bytree', 0.29295269021795245), ('gamma', 0), ('learning_rate', 0.01), ('max_depth', 4), ('n_estimators', 1000), ('reg_lambda', 0), ('scale_pos_weight', 3), ('subsample', 0.6282663273078569)])\n",
      ">acc=1.000, cfg=OrderedDict([('colsample_bylevel', 0.2804732827135895), ('colsample_bynode', 0.20824968120563417), ('colsample_bytree', 0.708822910447876), ('gamma', 0), ('learning_rate', 0.01), ('max_depth', 7), ('n_estimators', 479), ('reg_lambda', 10), ('scale_pos_weight', 1), ('subsample', 1.0)])\n",
      ">acc=0.667, cfg=OrderedDict([('colsample_bylevel', 0.692912467246896), ('colsample_bynode', 0.7356678265531618), ('colsample_bytree', 0.7304820944414923), ('gamma', 3), ('learning_rate', 0.06829594221110911), ('max_depth', 3), ('n_estimators', 826), ('reg_lambda', 0), ('scale_pos_weight', 2), ('subsample', 0.9497984568811805)])\n",
      ">acc=1.000, cfg=OrderedDict([('colsample_bylevel', 0.31600953016405176), ('colsample_bynode', 0.7111180039987284), ('colsample_bytree', 0.1), ('gamma', 0), ('learning_rate', 0.01), ('max_depth', 4), ('n_estimators', 1000), ('reg_lambda', 3), ('scale_pos_weight', 1), ('subsample', 0.8014275209975492)])\n",
      ">acc=0.333, cfg=OrderedDict([('colsample_bylevel', 0.2), ('colsample_bynode', 0.8), ('colsample_bytree', 0.8498160533044509), ('gamma', 0), ('learning_rate', 0.42550514953155305), ('max_depth', 10), ('n_estimators', 1000), ('reg_lambda', 10), ('scale_pos_weight', 5), ('subsample', 1.0)])\n",
      ">acc=0.000, cfg=OrderedDict([('colsample_bylevel', 0.4876840418933754), ('colsample_bynode', 0.7411952357941429), ('colsample_bytree', 0.18498797361726171), ('gamma', 1), ('learning_rate', 0.01), ('max_depth', 5), ('n_estimators', 1000), ('reg_lambda', 0), ('scale_pos_weight', 3), ('subsample', 0.7448634948585328)])\n",
      ">acc=0.667, cfg=OrderedDict([('colsample_bylevel', 0.7991356130497576), ('colsample_bynode', 0.38913243180774815), ('colsample_bytree', 0.4308798491435041), ('gamma', 0), ('learning_rate', 0.01), ('max_depth', 9), ('n_estimators', 1000), ('reg_lambda', 2), ('scale_pos_weight', 2), ('subsample', 1.0)])\n",
      ">acc=0.333, cfg=OrderedDict([('colsample_bylevel', 0.4474549135681023), ('colsample_bynode', 0.2104287924374954), ('colsample_bytree', 0.9063353503745732), ('gamma', 5), ('learning_rate', 0.1730740899710383), ('max_depth', 9), ('n_estimators', 1000), ('reg_lambda', 2), ('scale_pos_weight', 4), ('subsample', 1.0)])\n",
      ">acc=1.000, cfg=OrderedDict([('colsample_bylevel', 0.8), ('colsample_bynode', 0.2), ('colsample_bytree', 0.8390578409050524), ('gamma', 0), ('learning_rate', 0.01), ('max_depth', 9), ('n_estimators', 1000), ('reg_lambda', 7), ('scale_pos_weight', 2), ('subsample', 1.0)])\n",
      ">acc=1.000, cfg=OrderedDict([('colsample_bylevel', 0.7662260114186366), ('colsample_bynode', 0.6185931615985507), ('colsample_bytree', 1.0), ('gamma', 1), ('learning_rate', 0.2056403827678612), ('max_depth', 10), ('n_estimators', 648), ('reg_lambda', 10), ('scale_pos_weight', 3), ('subsample', 1.0)])\n",
      ">acc=1.000, cfg=OrderedDict([('colsample_bylevel', 0.8), ('colsample_bynode', 0.7224439367711553), ('colsample_bytree', 0.1), ('gamma', 0), ('learning_rate', 0.16107966442940813), ('max_depth', 10), ('n_estimators', 100), ('reg_lambda', 10), ('scale_pos_weight', 1), ('subsample', 0.7662702484950328)])\n",
      ">acc=0.000, cfg=OrderedDict([('colsample_bylevel', 0.2589977432285269), ('colsample_bynode', 0.5156021442417611), ('colsample_bytree', 0.37685378827782445), ('gamma', 0), ('learning_rate', 0.7044017862258672), ('max_depth', 7), ('n_estimators', 1000), ('reg_lambda', 9), ('scale_pos_weight', 5), ('subsample', 1.0)])\n",
      ">acc=1.000, cfg=OrderedDict([('colsample_bylevel', 0.5879859484263303), ('colsample_bynode', 0.7823987308243463), ('colsample_bytree', 0.1), ('gamma', 0), ('learning_rate', 0.5347755946371484), ('max_depth', 8), ('n_estimators', 1000), ('reg_lambda', 10), ('scale_pos_weight', 5), ('subsample', 1.0)])\n",
      ">acc=1.000, cfg=OrderedDict([('colsample_bylevel', 0.2), ('colsample_bynode', 0.2), ('colsample_bytree', 1.0), ('gamma', 0), ('learning_rate', 0.01), ('max_depth', 10), ('n_estimators', 1000), ('reg_lambda', 0), ('scale_pos_weight', 1), ('subsample', 1.0)])\n",
      ">acc=1.000, cfg=OrderedDict([('colsample_bylevel', 0.8), ('colsample_bynode', 0.2), ('colsample_bytree', 0.8345581816753919), ('gamma', 0), ('learning_rate', 0.01), ('max_depth', 7), ('n_estimators', 1000), ('reg_lambda', 4), ('scale_pos_weight', 2), ('subsample', 1.0)])\n",
      ">acc=1.000, cfg=OrderedDict([('colsample_bylevel', 0.7173837992960506), ('colsample_bynode', 0.40224788157594393), ('colsample_bytree', 0.45225549306023927), ('gamma', 2), ('learning_rate', 0.16439944247748753), ('max_depth', 10), ('n_estimators', 184), ('reg_lambda', 10), ('scale_pos_weight', 4), ('subsample', 1.0)])\n",
      ">acc=0.667, cfg=OrderedDict([('colsample_bylevel', 0.3666658413518079), ('colsample_bynode', 0.2), ('colsample_bytree', 0.5681275807802632), ('gamma', 4), ('learning_rate', 0.01), ('max_depth', 9), ('n_estimators', 1000), ('reg_lambda', 3), ('scale_pos_weight', 1), ('subsample', 1.0)])\n",
      ">acc=0.000, cfg=OrderedDict([('colsample_bylevel', 0.2), ('colsample_bynode', 0.8), ('colsample_bytree', 0.7783995896473667), ('gamma', 0), ('learning_rate', 0.41757911762776967), ('max_depth', 10), ('n_estimators', 1000), ('reg_lambda', 10), ('scale_pos_weight', 5), ('subsample', 1.0)])\n"
     ]
    },
    {
     "name": "stdout",
     "output_type": "stream",
     "text": [
      ">acc=1.000, cfg=OrderedDict([('colsample_bylevel', 0.6194333244275485), ('colsample_bynode', 0.5607747120204636), ('colsample_bytree', 0.2530748874632348), ('gamma', 0), ('learning_rate', 0.01), ('max_depth', 8), ('n_estimators', 1000), ('reg_lambda', 10), ('scale_pos_weight', 3), ('subsample', 1.0)])\n",
      ">acc=1.000, cfg=OrderedDict([('colsample_bylevel', 0.5071584498498345), ('colsample_bynode', 0.621465007874024), ('colsample_bytree', 0.30492857478634255), ('gamma', 0), ('learning_rate', 0.01), ('max_depth', 6), ('n_estimators', 775), ('reg_lambda', 2), ('scale_pos_weight', 2), ('subsample', 0.9188138273601155)])\n",
      ">acc=1.000, cfg=OrderedDict([('colsample_bylevel', 0.3802592005313554), ('colsample_bynode', 0.3181814078569735), ('colsample_bytree', 0.6538973244396634), ('gamma', 0), ('learning_rate', 0.016345152522765388), ('max_depth', 10), ('n_estimators', 820), ('reg_lambda', 6), ('scale_pos_weight', 2), ('subsample', 0.9811608402793938)])\n",
      ">acc=1.000, cfg=OrderedDict([('colsample_bylevel', 0.6115096027578661), ('colsample_bynode', 0.8), ('colsample_bytree', 0.8553622348090639), ('gamma', 1), ('learning_rate', 0.07650244312905374), ('max_depth', 10), ('n_estimators', 490), ('reg_lambda', 4), ('scale_pos_weight', 2), ('subsample', 0.9678370879505768)])\n",
      ">acc=0.667, cfg=OrderedDict([('colsample_bylevel', 0.3405752132154225), ('colsample_bynode', 0.7208616393168503), ('colsample_bytree', 0.7693576255372201), ('gamma', 0), ('learning_rate', 0.16966639486454912), ('max_depth', 7), ('n_estimators', 100), ('reg_lambda', 3), ('scale_pos_weight', 2), ('subsample', 1.0)])\n",
      ">acc=1.000, cfg=OrderedDict([('colsample_bylevel', 0.2), ('colsample_bynode', 0.8), ('colsample_bytree', 0.7917222134753751), ('gamma', 2), ('learning_rate', 0.01), ('max_depth', 10), ('n_estimators', 620), ('reg_lambda', 10), ('scale_pos_weight', 3), ('subsample', 1.0)])\n",
      ">acc=1.000, cfg=OrderedDict([('colsample_bylevel', 0.3775127015257449), ('colsample_bynode', 0.2), ('colsample_bytree', 1.0), ('gamma', 2), ('learning_rate', 0.01), ('max_depth', 10), ('n_estimators', 1000), ('reg_lambda', 10), ('scale_pos_weight', 2), ('subsample', 1.0)])\n",
      ">acc=0.667, cfg=OrderedDict([('colsample_bylevel', 0.33126201553204787), ('colsample_bynode', 0.41005257184847466), ('colsample_bytree', 1.0), ('gamma', 0), ('learning_rate', 0.20797849246091868), ('max_depth', 8), ('n_estimators', 688), ('reg_lambda', 10), ('scale_pos_weight', 5), ('subsample', 1.0)])\n",
      ">acc=0.000, cfg=OrderedDict([('colsample_bylevel', 0.5733956343505001), ('colsample_bynode', 0.29160438029460267), ('colsample_bytree', 0.48642783756689445), ('gamma', 2), ('learning_rate', 0.01), ('max_depth', 3), ('n_estimators', 1000), ('reg_lambda', 4), ('scale_pos_weight', 3), ('subsample', 1.0)])\n",
      ">acc=1.000, cfg=OrderedDict([('colsample_bylevel', 0.2), ('colsample_bynode', 0.716258716860342), ('colsample_bytree', 0.4392290786970815), ('gamma', 2), ('learning_rate', 0.28799985797477323), ('max_depth', 10), ('n_estimators', 340), ('reg_lambda', 10), ('scale_pos_weight', 3), ('subsample', 0.7756620381940924)])\n",
      ">acc=1.000, cfg=OrderedDict([('colsample_bylevel', 0.8), ('colsample_bynode', 0.2197361987054214), ('colsample_bytree', 1.0), ('gamma', 1), ('learning_rate', 0.01), ('max_depth', 3), ('n_estimators', 922), ('reg_lambda', 4), ('scale_pos_weight', 2), ('subsample', 0.7354915407908899)])\n",
      ">acc=0.333, cfg=OrderedDict([('colsample_bylevel', 0.7310331027152048), ('colsample_bynode', 0.383744815924948), ('colsample_bytree', 1.0), ('gamma', 0), ('learning_rate', 0.01), ('max_depth', 4), ('n_estimators', 1000), ('reg_lambda', 0), ('scale_pos_weight', 2), ('subsample', 0.811116985987918)])\n",
      ">acc=1.000, cfg=OrderedDict([('colsample_bylevel', 0.2), ('colsample_bynode', 0.8), ('colsample_bytree', 0.8590776473009181), ('gamma', 4), ('learning_rate', 0.01), ('max_depth', 10), ('n_estimators', 532), ('reg_lambda', 1), ('scale_pos_weight', 2), ('subsample', 1.0)])\n",
      ">acc=1.000, cfg=OrderedDict([('colsample_bylevel', 0.8), ('colsample_bynode', 0.4754320903887213), ('colsample_bytree', 1.0), ('gamma', 0), ('learning_rate', 0.01), ('max_depth', 3), ('n_estimators', 1000), ('reg_lambda', 0), ('scale_pos_weight', 1), ('subsample', 1.0)])\n",
      ">acc=1.000, cfg=OrderedDict([('colsample_bylevel', 0.2), ('colsample_bynode', 0.682449162899444), ('colsample_bytree', 0.9980578972625486), ('gamma', 0), ('learning_rate', 0.01), ('max_depth', 4), ('n_estimators', 864), ('reg_lambda', 4), ('scale_pos_weight', 3), ('subsample', 1.0)])\n",
      ">acc=1.000, cfg=OrderedDict([('colsample_bylevel', 0.8), ('colsample_bynode', 0.2), ('colsample_bytree', 0.6821459626525774), ('gamma', 0), ('learning_rate', 0.022375937832928162), ('max_depth', 10), ('n_estimators', 1000), ('reg_lambda', 4), ('scale_pos_weight', 2), ('subsample', 0.7013659093297395)])\n",
      ">acc=1.000, cfg=OrderedDict([('colsample_bylevel', 0.34986254748227436), ('colsample_bynode', 0.7805246574258968), ('colsample_bytree', 0.6166172379660472), ('gamma', 1), ('learning_rate', 0.1110022060151573), ('max_depth', 6), ('n_estimators', 772), ('reg_lambda', 2), ('scale_pos_weight', 2), ('subsample', 0.8512703217262066)])\n",
      ">acc=1.000, cfg=OrderedDict([('colsample_bylevel', 0.8), ('colsample_bynode', 0.24322103912136392), ('colsample_bytree', 0.6492857430986436), ('gamma', 4), ('learning_rate', 0.048546061206116285), ('max_depth', 7), ('n_estimators', 482), ('reg_lambda', 2), ('scale_pos_weight', 2), ('subsample', 0.8501032944694646)])\n",
      ">acc=0.000, cfg=OrderedDict([('colsample_bylevel', 0.7699997392039963), ('colsample_bynode', 0.717176533333612), ('colsample_bytree', 0.28599533176090863), ('gamma', 0), ('learning_rate', 0.8789826154791383), ('max_depth', 8), ('n_estimators', 595), ('reg_lambda', 10), ('scale_pos_weight', 3), ('subsample', 0.9787212945787314)])\n",
      ">acc=0.000, cfg=OrderedDict([('colsample_bylevel', 0.2), ('colsample_bynode', 0.8), ('colsample_bytree', 0.7050322965494786), ('gamma', 0), ('learning_rate', 0.01), ('max_depth', 5), ('n_estimators', 1000), ('reg_lambda', 0), ('scale_pos_weight', 2), ('subsample', 0.6853743237658196)])\n",
      ">acc=1.000, cfg=OrderedDict([('colsample_bylevel', 0.46785844804679316), ('colsample_bynode', 0.8), ('colsample_bytree', 0.7887306470239625), ('gamma', 0), ('learning_rate', 0.39930878745628756), ('max_depth', 10), ('n_estimators', 1000), ('reg_lambda', 7), ('scale_pos_weight', 5), ('subsample', 1.0)])\n",
      ">acc=0.667, cfg=OrderedDict([('colsample_bylevel', 0.2), ('colsample_bynode', 0.8), ('colsample_bytree', 0.1), ('gamma', 0), ('learning_rate', 1.0), ('max_depth', 10), ('n_estimators', 1000), ('reg_lambda', 10), ('scale_pos_weight', 1), ('subsample', 1.0)])\n",
      ">acc=1.000, cfg=OrderedDict([('colsample_bylevel', 0.4281432142348496), ('colsample_bynode', 0.2), ('colsample_bytree', 0.7026987084975318), ('gamma', 1), ('learning_rate', 0.01), ('max_depth', 9), ('n_estimators', 455), ('reg_lambda', 10), ('scale_pos_weight', 1), ('subsample', 0.6711761806210124)])\n",
      ">acc=1.000, cfg=OrderedDict([('colsample_bylevel', 0.40667949735572784), ('colsample_bynode', 0.7154753574836432), ('colsample_bytree', 0.3533794712975078), ('gamma', 1), ('learning_rate', 0.05015846634411478), ('max_depth', 7), ('n_estimators', 531), ('reg_lambda', 5), ('scale_pos_weight', 2), ('subsample', 0.909930078171987)])\n",
      ">acc=1.000, cfg=OrderedDict([('colsample_bylevel', 0.8), ('colsample_bynode', 0.2680000067529267), ('colsample_bytree', 1.0), ('gamma', 0), ('learning_rate', 0.01), ('max_depth', 4), ('n_estimators', 1000), ('reg_lambda', 0), ('scale_pos_weight', 2), ('subsample', 0.8386778078755887)])\n",
      ">acc=0.333, cfg=OrderedDict([('colsample_bylevel', 0.6531263328761754), ('colsample_bynode', 0.5050506396327968), ('colsample_bytree', 0.8024253834591055), ('gamma', 0), ('learning_rate', 0.13696256829447304), ('max_depth', 9), ('n_estimators', 969), ('reg_lambda', 10), ('scale_pos_weight', 4), ('subsample', 0.9057883733130098)])\n",
      ">acc=1.000, cfg=OrderedDict([('colsample_bylevel', 0.2), ('colsample_bynode', 0.8), ('colsample_bytree', 0.9994532809165163), ('gamma', 0), ('learning_rate', 0.01), ('max_depth', 10), ('n_estimators', 1000), ('reg_lambda', 9), ('scale_pos_weight', 2), ('subsample', 1.0)])\n",
      ">acc=0.667, cfg=OrderedDict([('colsample_bylevel', 0.619792018832932), ('colsample_bynode', 0.4152481619791778), ('colsample_bytree', 0.7213844255652511), ('gamma', 1), ('learning_rate', 0.12286490661238958), ('max_depth', 8), ('n_estimators', 712), ('reg_lambda', 10), ('scale_pos_weight', 5), ('subsample', 0.6488585595078604)])\n"
     ]
    },
    {
     "name": "stdout",
     "output_type": "stream",
     "text": [
      ">acc=0.000, cfg=OrderedDict([('colsample_bylevel', 0.8), ('colsample_bynode', 0.5856341195937591), ('colsample_bytree', 0.4194636425213589), ('gamma', 2), ('learning_rate', 0.11825960861327586), ('max_depth', 7), ('n_estimators', 236), ('reg_lambda', 2), ('scale_pos_weight', 2), ('subsample', 1.0)])\n",
      ">acc=0.000, cfg=OrderedDict([('colsample_bylevel', 0.3726759058262473), ('colsample_bynode', 0.39722386994159986), ('colsample_bytree', 0.7538778326135803), ('gamma', 2), ('learning_rate', 0.2983760143207964), ('max_depth', 8), ('n_estimators', 969), ('reg_lambda', 1), ('scale_pos_weight', 4), ('subsample', 0.7208630726115655)])\n",
      ">acc=1.000, cfg=OrderedDict([('colsample_bylevel', 0.36260854756103), ('colsample_bynode', 0.2), ('colsample_bytree', 1.0), ('gamma', 0), ('learning_rate', 0.01), ('max_depth', 10), ('n_estimators', 1000), ('reg_lambda', 2), ('scale_pos_weight', 3), ('subsample', 1.0)])\n",
      ">acc=1.000, cfg=OrderedDict([('colsample_bylevel', 0.8), ('colsample_bynode', 0.7562974678086294), ('colsample_bytree', 0.1), ('gamma', 0), ('learning_rate', 0.01), ('max_depth', 6), ('n_estimators', 945), ('reg_lambda', 7), ('scale_pos_weight', 3), ('subsample', 1.0)])\n",
      ">acc=1.000, cfg=OrderedDict([('colsample_bylevel', 0.577835362796361), ('colsample_bynode', 0.3255559235149398), ('colsample_bytree', 0.5744168143014085), ('gamma', 0), ('learning_rate', 0.16926042817773737), ('max_depth', 10), ('n_estimators', 1000), ('reg_lambda', 6), ('scale_pos_weight', 5), ('subsample', 1.0)])\n",
      ">acc=0.667, cfg=OrderedDict([('colsample_bylevel', 0.2), ('colsample_bynode', 0.7295439433890356), ('colsample_bytree', 0.6235344581148383), ('gamma', 0), ('learning_rate', 0.45348530715213636), ('max_depth', 4), ('n_estimators', 957), ('reg_lambda', 1), ('scale_pos_weight', 1), ('subsample', 0.8761579443846905)])\n",
      ">acc=0.333, cfg=OrderedDict([('colsample_bylevel', 0.7322616471456214), ('colsample_bynode', 0.7063830627805001), ('colsample_bytree', 0.35230268654066976), ('gamma', 3), ('learning_rate', 0.20055184863983938), ('max_depth', 6), ('n_estimators', 810), ('reg_lambda', 2), ('scale_pos_weight', 1), ('subsample', 0.6671609061413322)])\n",
      "Accuracy: 0.834 (0.338)\n"
     ]
    }
   ],
   "source": [
    "#perform nested cross validation to see how well the model will generalize\n",
    "#couldn't use gridsearch due to compute times\n",
    "#Bayesian optimization to find best hyperparams\n",
    "\n",
    "import pandas as pd\n",
    "\n",
    "for train_ix, test_ix in cv_outer.split(Xtr,Ytr,grouptr):\n",
    "    #count = 0\n",
    "    # split data\n",
    "    X_train, X_test = Xtr[train_ix, :], Xtr[test_ix, :]\n",
    "    y_train, y_test = Ytr[train_ix], Ytr[test_ix]\n",
    "\n",
    "    # bayesian optimization in one line\n",
    "    search = BayesSearchCV(estimator=model, search_spaces=pbounds, n_jobs=-1, cv=3)\n",
    "    \n",
    "    #fit bayes search\n",
    "    result = search.fit(X_train, y_train)\n",
    "    #take best params from the fit\n",
    "    best_model = result.best_estimator_\n",
    "    # evaluate model on the hold out dataset\n",
    "    best_model.fit(X_train, y_train)\n",
    "    yhat = best_model.predict(X_test) # use model with best params for each trial\n",
    "    # evaluate the model\n",
    "    acc = accuracy_score(y_test, yhat)\n",
    "    # store the result\n",
    "    outer_results.append(acc)\n",
    "    \n",
    "    #count = count + 1\n",
    "    # report progress\n",
    "    print('>acc=%.3f, cfg=%s' % (acc, result.best_params_))\n",
    "\n",
    "# summarize the estimated performance of the model\n",
    "print('Accuracy: %.3f (%.3f)' % (np.mean(outer_results), np.std(outer_results)))"
   ]
  },
  {
   "cell_type": "code",
   "execution_count": 7,
   "id": "e9ca4bfa",
   "metadata": {},
   "outputs": [
    {
     "name": "stdout",
     "output_type": "stream",
     "text": [
      "Accuracy: 0.784\n"
     ]
    }
   ],
   "source": [
    "# last step: fit the best model on ALL the training data\n",
    "from matplotlib import pyplot\n",
    "\n",
    "X_train = Xtr\n",
    "y_train = Ytr\n",
    "\n",
    "#bayesian optimization on ALL training data\n",
    "search = BayesSearchCV(estimator=model, search_spaces=pbounds, n_jobs=-1, cv=3)\n",
    "result = search.fit(X_train, y_train)\n",
    "params = result.best_params_\n",
    "\n",
    "#instantiate tuned model\n",
    "final_model = xgboost.XGBClassifier(\n",
    "    **params,\n",
    "    objective=\"binary:logistic\",\n",
    ")\n",
    "\n",
    "final_model.fit(X_train,y_train)\n",
    "\n",
    "#evaluate final model with untouched test data from group shuffle split\n",
    "yhat = final_model.predict(Xt)\n",
    "acc = accuracy_score(Yt, yhat)\n",
    "print('Accuracy: %.3f' % (acc))\n",
    "\n",
    "# save the model to disk, change name of model based on which feature selection was used\n",
    "filename = 'be700_no_selection.sav'\n",
    "pickle.dump(final_model, open(filename, 'wb'))"
   ]
  },
  {
   "cell_type": "code",
   "execution_count": 22,
   "id": "a91dbce4",
   "metadata": {},
   "outputs": [
    {
     "name": "stdout",
     "output_type": "stream",
     "text": [
      "Accuracy: 0.784\n"
     ]
    }
   ],
   "source": [
    "yhat = final_model.predict(Xt)\n",
    "acc = accuracy_score(Yt, yhat)\n",
    "print('Accuracy: %.3f' % (acc))"
   ]
  },
  {
   "cell_type": "code",
   "execution_count": 8,
   "id": "ce77679e",
   "metadata": {},
   "outputs": [
    {
     "data": {
      "image/png": "[encoded data removed]",
      "text/plain": [
       "<Figure size 640x480 with 1 Axes>"
      ]
     },
     "metadata": {},
     "output_type": "display_data"
    }
   ],
   "source": [
    "# feature importance\n",
    "# plot\n",
    "from matplotlib import pyplot\n",
    "pyplot.bar(range(len(final_model.feature_importances_)), final_model.feature_importances_)\n",
    "pyplot.show()"
   ]
  },
  {
   "cell_type": "code",
   "execution_count": 20,
   "id": "197e218f",
   "metadata": {},
   "outputs": [
    {
     "name": "stdout",
     "output_type": "stream",
     "text": [
      "[208 620 441 346  58 133 734 111 750 292]\n"
     ]
    }
   ],
   "source": [
    "import numpy as np\n",
    "import pickle\n",
    "final_model = pickle.load(open('be700_no_selection.sav','rb'))\n",
    "idx = final_model.feature_importances_.argsort()[-10:][::-1]\n",
    "print(idx)"
   ]
  },
  {
   "cell_type": "code",
   "execution_count": 21,
   "id": "8af49203",
   "metadata": {},
   "outputs": [
    {
     "name": "stdout",
     "output_type": "stream",
     "text": [
      "0.9718076285240465\n"
     ]
    }
   ],
   "source": [
    "train_predict = final_model.predict(X_train)\n",
    "train_acc = accuracy_score(y_train, train_predict)\n",
    "print(train_acc)"
   ]
  },
  {
   "cell_type": "code",
   "execution_count": 11,
   "id": "f345f44f",
   "metadata": {},
   "outputs": [
    {
     "data": {
      "image/png": "[encoded data removed]",
      "text/plain": [
       "<Figure size 640x480 with 2 Axes>"
      ]
     },
     "metadata": {},
     "output_type": "display_data"
    },
    {
     "name": "stdout",
     "output_type": "stream",
     "text": [
      "0.8685258964143425\n",
      "0.3903360258501626\n"
     ]
    }
   ],
   "source": [
    "from sklearn.metrics import f1_score\n",
    "from sklearn.metrics import matthews_corrcoef\n",
    "from sklearn.metrics import confusion_matrix\n",
    "from sklearn.metrics import ConfusionMatrixDisplay\n",
    "\n",
    "f1score = f1_score(Yt, yhat)\n",
    "mccscore = matthews_corrcoef(Yt,yhat)\n",
    "\n",
    "cm = confusion_matrix(Yt, yhat, labels=final_model.classes_)\n",
    "disp = ConfusionMatrixDisplay(confusion_matrix=cm,\n",
    "                              display_labels=final_model.classes_)\n",
    "disp.plot()\n",
    "pyplot.show()\n",
    "\n",
    "print(f1score)\n",
    "print(mccscore)"
   ]
  },
  {
   "cell_type": "code",
   "execution_count": null,
   "id": "838d01f9",
   "metadata": {},
   "outputs": [],
   "source": []
  }
 ],
 "metadata": {
  "kernelspec": {
   "display_name": "Python 3 (ipykernel)",
   "language": "python",
   "name": "python3"
  },
  "language_info": {
   "codemirror_mode": {
    "name": "ipython",
    "version": 3
   },
   "file_extension": ".py",
   "mimetype": "text/x-python",
   "name": "python",
   "nbconvert_exporter": "python",
   "pygments_lexer": "ipython3",
   "version": "3.9.15"
  }
 },
 "nbformat": 4,
 "nbformat_minor": 5
}
